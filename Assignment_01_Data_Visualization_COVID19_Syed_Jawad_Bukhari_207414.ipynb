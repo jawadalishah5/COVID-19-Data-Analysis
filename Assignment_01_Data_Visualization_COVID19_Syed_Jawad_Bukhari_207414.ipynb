{
  "nbformat": 4,
  "nbformat_minor": 0,
  "metadata": {
    "kernelspec": {
      "display_name": "Python 3",
      "language": "python",
      "name": "python3"
    },
    "language_info": {
      "codemirror_mode": {
        "name": "ipython",
        "version": 3
      },
      "file_extension": ".py",
      "mimetype": "text/x-python",
      "name": "python",
      "nbconvert_exporter": "python",
      "pygments_lexer": "ipython3",
      "version": "3.7.3"
    },
    "colab": {
      "name": "Assignment_01_Data_Visualization_COVID19 Syed Jawad Bukhari 207414.ipynb",
      "provenance": [],
      "collapsed_sections": [],
      "toc_visible": true
    }
  },
  "cells": [
    {
      "cell_type": "markdown",
      "metadata": {
        "id": "hFipuLY_d2-d",
        "colab_type": "text"
      },
      "source": [
        "# Assignment # 01: Data Preprocessing and Visualization\n",
        "\n",
        "**Syed Jawad Bukhari 207414 BESE 8B**"
      ]
    },
    {
      "cell_type": "markdown",
      "metadata": {
        "id": "CaeYTH9Ud2-g",
        "colab_type": "text"
      },
      "source": [
        "# CS471: Machine Learning\n",
        "### BESE-8 AB\n",
        "### Instructors: Prof. Dr. Faisal Shafait, Dr. Muhammad Muneeb Ullah\n",
        "#### Due Date: March 18, 2020"
      ]
    },
    {
      "cell_type": "markdown",
      "metadata": {
        "id": "7teYw0Cnd2-h",
        "colab_type": "text"
      },
      "source": [
        "### Introduction\n",
        "\n",
        "The Novel Coronavirus (COVID19) which causes respiratory illnesss was first detected in Wuhan, China. Since the disease is contagious, it has spread all over the world due to the high number of tourism and business visits to / from China. As you all are very well aware, COVID19 has been labelled as a global pandemic now by World Health Organization. Countries such as Italy, China, Qatar, USA, Saudi Arabia, etc, have cancelled most of the flights and a lockdown notice has been issued in Italy to avoid further wide-spread of the virus. \n",
        "Scientists all over the world are trying to drive insights from the datasets to come up with a possible prediction which will help with early diagnosis of COVID-19, estimating the spread, and the virus frequency and duration. \n",
        "Johns Hopkins University has made an excellent dashboard using the affected cases data. The dataset is made available at Kaggle and can be downloaded for the purpose of research.\n",
        "For this assignment, we will use the Kaggle COVID-19 dataset (Download here: <a href=\"https://www.kaggle.com/sudalairajkumar/novel-corona-virus-2019-dataset\" title=\"DATASET\">DATASET</a>) and will try to learn some insights using the power of Machine Learning.\n",
        "The Johns Hopkins University's web based dashboard can be accessed here:\n",
        "<a href=\"https://gisanddata.maps.arcgis.com/apps/opsdashboard/index.html#/bda7594740fd40299423467b48e9ecf6\" title=\"Web Dashboard\">Web Dashboard</a>"
      ]
    },
    {
      "cell_type": "markdown",
      "metadata": {
        "id": "hc_99VnXd2-i",
        "colab_type": "text"
      },
      "source": [
        "#### Question # 01\n",
        "\n",
        "As you must have noticed, there are 6 files in the data you have downloaded from Kaggle.\n",
        "For this question, we will use the main file `covid_19_data.csv`.\n",
        "The steps to follow are given:\n",
        "1. Read the data file and examine the features\n",
        "2. Since the dataset is a bit sparse, clean the dataset by dropping rows which have missing points.\n",
        "3. Print the initial 10 rows of the data."
      ]
    },
    {
      "cell_type": "markdown",
      "metadata": {
        "id": "nDq3fUHw6C1o",
        "colab_type": "text"
      },
      "source": [
        "**1.**"
      ]
    },
    {
      "cell_type": "code",
      "metadata": {
        "id": "xGUpplFbd2-j",
        "colab_type": "code",
        "colab": {}
      },
      "source": [
        "import pandas as pd\n",
        "import numpy as np"
      ],
      "execution_count": 0,
      "outputs": []
    },
    {
      "cell_type": "code",
      "metadata": {
        "scrolled": true,
        "id": "sHSq0lD7d2-n",
        "colab_type": "code",
        "outputId": "e0bc2e3a-c6c1-4300-dc82-4c24c280bdbd",
        "colab": {
          "base_uri": "https://localhost:8080/",
          "height": 204
        }
      },
      "source": [
        "covid_data=pd.read_csv('covid_19_data.csv')\n",
        "covid_data.head()"
      ],
      "execution_count": 74,
      "outputs": [
        {
          "output_type": "execute_result",
          "data": {
            "text/html": [
              "<div>\n",
              "<style scoped>\n",
              "    .dataframe tbody tr th:only-of-type {\n",
              "        vertical-align: middle;\n",
              "    }\n",
              "\n",
              "    .dataframe tbody tr th {\n",
              "        vertical-align: top;\n",
              "    }\n",
              "\n",
              "    .dataframe thead th {\n",
              "        text-align: right;\n",
              "    }\n",
              "</style>\n",
              "<table border=\"1\" class=\"dataframe\">\n",
              "  <thead>\n",
              "    <tr style=\"text-align: right;\">\n",
              "      <th></th>\n",
              "      <th>SNo</th>\n",
              "      <th>ObservationDate</th>\n",
              "      <th>Province/State</th>\n",
              "      <th>Country/Region</th>\n",
              "      <th>Last Update</th>\n",
              "      <th>Confirmed</th>\n",
              "      <th>Deaths</th>\n",
              "      <th>Recovered</th>\n",
              "    </tr>\n",
              "  </thead>\n",
              "  <tbody>\n",
              "    <tr>\n",
              "      <th>0</th>\n",
              "      <td>1</td>\n",
              "      <td>01/22/2020</td>\n",
              "      <td>Anhui</td>\n",
              "      <td>Mainland China</td>\n",
              "      <td>1/22/2020 17:00</td>\n",
              "      <td>1.0</td>\n",
              "      <td>0.0</td>\n",
              "      <td>0.0</td>\n",
              "    </tr>\n",
              "    <tr>\n",
              "      <th>1</th>\n",
              "      <td>2</td>\n",
              "      <td>01/22/2020</td>\n",
              "      <td>Beijing</td>\n",
              "      <td>Mainland China</td>\n",
              "      <td>1/22/2020 17:00</td>\n",
              "      <td>14.0</td>\n",
              "      <td>0.0</td>\n",
              "      <td>0.0</td>\n",
              "    </tr>\n",
              "    <tr>\n",
              "      <th>2</th>\n",
              "      <td>3</td>\n",
              "      <td>01/22/2020</td>\n",
              "      <td>Chongqing</td>\n",
              "      <td>Mainland China</td>\n",
              "      <td>1/22/2020 17:00</td>\n",
              "      <td>6.0</td>\n",
              "      <td>0.0</td>\n",
              "      <td>0.0</td>\n",
              "    </tr>\n",
              "    <tr>\n",
              "      <th>3</th>\n",
              "      <td>4</td>\n",
              "      <td>01/22/2020</td>\n",
              "      <td>Fujian</td>\n",
              "      <td>Mainland China</td>\n",
              "      <td>1/22/2020 17:00</td>\n",
              "      <td>1.0</td>\n",
              "      <td>0.0</td>\n",
              "      <td>0.0</td>\n",
              "    </tr>\n",
              "    <tr>\n",
              "      <th>4</th>\n",
              "      <td>5</td>\n",
              "      <td>01/22/2020</td>\n",
              "      <td>Gansu</td>\n",
              "      <td>Mainland China</td>\n",
              "      <td>1/22/2020 17:00</td>\n",
              "      <td>0.0</td>\n",
              "      <td>0.0</td>\n",
              "      <td>0.0</td>\n",
              "    </tr>\n",
              "  </tbody>\n",
              "</table>\n",
              "</div>"
            ],
            "text/plain": [
              "   SNo ObservationDate Province/State  ... Confirmed Deaths  Recovered\n",
              "0    1      01/22/2020          Anhui  ...       1.0    0.0        0.0\n",
              "1    2      01/22/2020        Beijing  ...      14.0    0.0        0.0\n",
              "2    3      01/22/2020      Chongqing  ...       6.0    0.0        0.0\n",
              "3    4      01/22/2020         Fujian  ...       1.0    0.0        0.0\n",
              "4    5      01/22/2020          Gansu  ...       0.0    0.0        0.0\n",
              "\n",
              "[5 rows x 8 columns]"
            ]
          },
          "metadata": {
            "tags": []
          },
          "execution_count": 74
        }
      ]
    },
    {
      "cell_type": "markdown",
      "metadata": {
        "id": "j2tHOVRK6OkO",
        "colab_type": "text"
      },
      "source": [
        "**2.**"
      ]
    },
    {
      "cell_type": "code",
      "metadata": {
        "id": "t7pgMhnPd2-r",
        "colab_type": "code",
        "outputId": "be34d5be-6785-4ff7-a2f2-d89ab7e5a031",
        "colab": {
          "base_uri": "https://localhost:8080/",
          "height": 34
        }
      },
      "source": [
        "covid_data.shape"
      ],
      "execution_count": 75,
      "outputs": [
        {
          "output_type": "execute_result",
          "data": {
            "text/plain": [
              "(5890, 8)"
            ]
          },
          "metadata": {
            "tags": []
          },
          "execution_count": 75
        }
      ]
    },
    {
      "cell_type": "code",
      "metadata": {
        "id": "eBF3mDbod2-u",
        "colab_type": "code",
        "outputId": "9873e312-69cd-46eb-ee89-9d8b357e31cc",
        "colab": {
          "base_uri": "https://localhost:8080/",
          "height": 34
        }
      },
      "source": [
        "covid_data[covid_data['Province/State'].isnull()==True].shape   #null values "
      ],
      "execution_count": 76,
      "outputs": [
        {
          "output_type": "execute_result",
          "data": {
            "text/plain": [
              "(2315, 8)"
            ]
          },
          "metadata": {
            "tags": []
          },
          "execution_count": 76
        }
      ]
    },
    {
      "cell_type": "markdown",
      "metadata": {
        "id": "lmdw0_9b6UME",
        "colab_type": "text"
      },
      "source": [
        "**3**"
      ]
    },
    {
      "cell_type": "code",
      "metadata": {
        "id": "TY_6E8Qrd2-x",
        "colab_type": "code",
        "colab": {}
      },
      "source": [
        "covid_data=covid_data.dropna()         #drop null values\n",
        "#covid_data"
      ],
      "execution_count": 0,
      "outputs": []
    },
    {
      "cell_type": "code",
      "metadata": {
        "id": "gACiNPYHd2-1",
        "colab_type": "code",
        "colab": {}
      },
      "source": [
        "#drop past data\n",
        "\n",
        "covid_data=covid_data.drop_duplicates(subset='Province/State', keep=\"last\")\n"
      ],
      "execution_count": 0,
      "outputs": []
    },
    {
      "cell_type": "code",
      "metadata": {
        "id": "BrUva04Zd2-4",
        "colab_type": "code",
        "outputId": "d9cddf30-26dc-4acb-98ef-6b813f348cbb",
        "colab": {
          "base_uri": "https://localhost:8080/",
          "height": 359
        }
      },
      "source": [
        "covid_data.head(10)         #first 10 values  "
      ],
      "execution_count": 79,
      "outputs": [
        {
          "output_type": "execute_result",
          "data": {
            "text/html": [
              "<div>\n",
              "<style scoped>\n",
              "    .dataframe tbody tr th:only-of-type {\n",
              "        vertical-align: middle;\n",
              "    }\n",
              "\n",
              "    .dataframe tbody tr th {\n",
              "        vertical-align: top;\n",
              "    }\n",
              "\n",
              "    .dataframe thead th {\n",
              "        text-align: right;\n",
              "    }\n",
              "</style>\n",
              "<table border=\"1\" class=\"dataframe\">\n",
              "  <thead>\n",
              "    <tr style=\"text-align: right;\">\n",
              "      <th></th>\n",
              "      <th>SNo</th>\n",
              "      <th>ObservationDate</th>\n",
              "      <th>Province/State</th>\n",
              "      <th>Country/Region</th>\n",
              "      <th>Last Update</th>\n",
              "      <th>Confirmed</th>\n",
              "      <th>Deaths</th>\n",
              "      <th>Recovered</th>\n",
              "    </tr>\n",
              "  </thead>\n",
              "  <tbody>\n",
              "    <tr>\n",
              "      <th>118</th>\n",
              "      <td>119</td>\n",
              "      <td>01/24/2020</td>\n",
              "      <td>Chicago</td>\n",
              "      <td>US</td>\n",
              "      <td>1/24/20 17:00</td>\n",
              "      <td>1.0</td>\n",
              "      <td>0.0</td>\n",
              "      <td>0.0</td>\n",
              "    </tr>\n",
              "    <tr>\n",
              "      <th>471</th>\n",
              "      <td>472</td>\n",
              "      <td>01/31/2020</td>\n",
              "      <td>Bavaria</td>\n",
              "      <td>Germany</td>\n",
              "      <td>1/31/2020 23:59</td>\n",
              "      <td>5.0</td>\n",
              "      <td>0.0</td>\n",
              "      <td>0.0</td>\n",
              "    </tr>\n",
              "    <tr>\n",
              "      <th>1005</th>\n",
              "      <td>1006</td>\n",
              "      <td>02/08/2020</td>\n",
              "      <td>Cruise Ship</td>\n",
              "      <td>Others</td>\n",
              "      <td>2020-02-07T16:33:03</td>\n",
              "      <td>61.0</td>\n",
              "      <td>0.0</td>\n",
              "      <td>0.0</td>\n",
              "    </tr>\n",
              "    <tr>\n",
              "      <th>1985</th>\n",
              "      <td>1986</td>\n",
              "      <td>02/21/2020</td>\n",
              "      <td>Ashland, NE</td>\n",
              "      <td>US</td>\n",
              "      <td>2020-02-21T23:23:06</td>\n",
              "      <td>11.0</td>\n",
              "      <td>0.0</td>\n",
              "      <td>0.0</td>\n",
              "    </tr>\n",
              "    <tr>\n",
              "      <th>1991</th>\n",
              "      <td>1992</td>\n",
              "      <td>02/21/2020</td>\n",
              "      <td>Travis, CA</td>\n",
              "      <td>US</td>\n",
              "      <td>2020-02-21T23:23:06</td>\n",
              "      <td>5.0</td>\n",
              "      <td>0.0</td>\n",
              "      <td>0.0</td>\n",
              "    </tr>\n",
              "    <tr>\n",
              "      <th>2002</th>\n",
              "      <td>2003</td>\n",
              "      <td>02/21/2020</td>\n",
              "      <td>Lackland, TX</td>\n",
              "      <td>US</td>\n",
              "      <td>2020-02-21T23:23:06</td>\n",
              "      <td>2.0</td>\n",
              "      <td>0.0</td>\n",
              "      <td>0.0</td>\n",
              "    </tr>\n",
              "    <tr>\n",
              "      <th>2344</th>\n",
              "      <td>2345</td>\n",
              "      <td>02/25/2020</td>\n",
              "      <td>None</td>\n",
              "      <td>Austria</td>\n",
              "      <td>2020-02-25T18:55:32</td>\n",
              "      <td>2.0</td>\n",
              "      <td>0.0</td>\n",
              "      <td>0.0</td>\n",
              "    </tr>\n",
              "    <tr>\n",
              "      <th>2878</th>\n",
              "      <td>2879</td>\n",
              "      <td>03/01/2020</td>\n",
              "      <td>Seattle, WA</td>\n",
              "      <td>US</td>\n",
              "      <td>2020-03-01T21:13:12</td>\n",
              "      <td>9.0</td>\n",
              "      <td>1.0</td>\n",
              "      <td>1.0</td>\n",
              "    </tr>\n",
              "    <tr>\n",
              "      <th>2899</th>\n",
              "      <td>2900</td>\n",
              "      <td>03/01/2020</td>\n",
              "      <td>Chicago, IL</td>\n",
              "      <td>US</td>\n",
              "      <td>2020-03-01T03:53:02</td>\n",
              "      <td>3.0</td>\n",
              "      <td>0.0</td>\n",
              "      <td>2.0</td>\n",
              "    </tr>\n",
              "    <tr>\n",
              "      <th>3036</th>\n",
              "      <td>3037</td>\n",
              "      <td>03/02/2020</td>\n",
              "      <td>Portland, OR</td>\n",
              "      <td>US</td>\n",
              "      <td>2020-03-02T03:33:08</td>\n",
              "      <td>2.0</td>\n",
              "      <td>0.0</td>\n",
              "      <td>0.0</td>\n",
              "    </tr>\n",
              "  </tbody>\n",
              "</table>\n",
              "</div>"
            ],
            "text/plain": [
              "       SNo ObservationDate Province/State  ... Confirmed Deaths  Recovered\n",
              "118    119      01/24/2020        Chicago  ...       1.0    0.0        0.0\n",
              "471    472      01/31/2020        Bavaria  ...       5.0    0.0        0.0\n",
              "1005  1006      02/08/2020    Cruise Ship  ...      61.0    0.0        0.0\n",
              "1985  1986      02/21/2020    Ashland, NE  ...      11.0    0.0        0.0\n",
              "1991  1992      02/21/2020     Travis, CA  ...       5.0    0.0        0.0\n",
              "2002  2003      02/21/2020   Lackland, TX  ...       2.0    0.0        0.0\n",
              "2344  2345      02/25/2020           None  ...       2.0    0.0        0.0\n",
              "2878  2879      03/01/2020    Seattle, WA  ...       9.0    1.0        1.0\n",
              "2899  2900      03/01/2020    Chicago, IL  ...       3.0    0.0        2.0\n",
              "3036  3037      03/02/2020   Portland, OR  ...       2.0    0.0        0.0\n",
              "\n",
              "[10 rows x 8 columns]"
            ]
          },
          "metadata": {
            "tags": []
          },
          "execution_count": 79
        }
      ]
    },
    {
      "cell_type": "markdown",
      "metadata": {
        "id": "jJ-6jLtgd2-6",
        "colab_type": "text"
      },
      "source": [
        "#### Question # 02\n",
        "\n",
        "1. Rank the countries in the dataset in descending order according to the number of deaths.\n",
        "2. Figure out the most affected provinces/states in top 3 countries with most number of Deaths.\n",
        "3. Repeat the first two steps for Recovered and Confirmed cases as well.\n",
        "4. Plot a bar graph for top 10 states in China and US in accordance to the death cases, and recovered cases."
      ]
    },
    {
      "cell_type": "markdown",
      "metadata": {
        "id": "i5G6AFDD6wHA",
        "colab_type": "text"
      },
      "source": [
        "**1**"
      ]
    },
    {
      "cell_type": "code",
      "metadata": {
        "id": "63KVu-t2d2--",
        "colab_type": "code",
        "outputId": "9362be14-f1f6-4cf5-a564-06e5a4b06f39",
        "colab": {
          "base_uri": "https://localhost:8080/",
          "height": 272
        }
      },
      "source": [
        "#reverse sorting summation by  number of death groub by countries\n",
        "\n",
        "covid_data.groupby(['Country/Region'])['Deaths'].sum().sort_values(ascending=False).head(30)"
      ],
      "execution_count": 80,
      "outputs": [
        {
          "output_type": "execute_result",
          "data": {
            "text/plain": [
              "Country/Region\n",
              "Mainland China    3199.0\n",
              "France              91.0\n",
              "US                  86.0\n",
              "UK                  29.0\n",
              "Hong Kong            4.0\n",
              "Australia            3.0\n",
              "Denmark              2.0\n",
              "Taiwan               1.0\n",
              "Canada               1.0\n",
              "Others               0.0\n",
              "Macau                0.0\n",
              "Germany              0.0\n",
              "Austria              0.0\n",
              "Name: Deaths, dtype: float64"
            ]
          },
          "metadata": {
            "tags": []
          },
          "execution_count": 80
        }
      ]
    },
    {
      "cell_type": "markdown",
      "metadata": {
        "id": "C5UBDjtI64wz",
        "colab_type": "text"
      },
      "source": [
        "**2**"
      ]
    },
    {
      "cell_type": "code",
      "metadata": {
        "id": "5aBa1tXFd2_B",
        "colab_type": "code",
        "outputId": "5aab6762-f909-41fe-c273-031e181604b2",
        "colab": {
          "base_uri": "https://localhost:8080/",
          "height": 173
        }
      },
      "source": [
        "#max of death cities in top 3 countries\n",
        "\n",
        "#top 3 countries from the list : top3\n",
        "deathgroups=covid_data.groupby('Country/Region')['Deaths'].sum().sort_values(ascending=False)\n",
        "top3=deathgroups.keys()[:3] \n",
        "\n",
        "\n",
        "#max value of each column from top3 : max3\n",
        "max3=covid_data[(covid_data['Country/Region'].isin(top3))].groupby(['Country/Region']).max()\n",
        "\n",
        "max3"
      ],
      "execution_count": 81,
      "outputs": [
        {
          "output_type": "execute_result",
          "data": {
            "text/html": [
              "<div>\n",
              "<style scoped>\n",
              "    .dataframe tbody tr th:only-of-type {\n",
              "        vertical-align: middle;\n",
              "    }\n",
              "\n",
              "    .dataframe tbody tr th {\n",
              "        vertical-align: top;\n",
              "    }\n",
              "\n",
              "    .dataframe thead th {\n",
              "        text-align: right;\n",
              "    }\n",
              "</style>\n",
              "<table border=\"1\" class=\"dataframe\">\n",
              "  <thead>\n",
              "    <tr style=\"text-align: right;\">\n",
              "      <th></th>\n",
              "      <th>SNo</th>\n",
              "      <th>ObservationDate</th>\n",
              "      <th>Province/State</th>\n",
              "      <th>Last Update</th>\n",
              "      <th>Confirmed</th>\n",
              "      <th>Deaths</th>\n",
              "      <th>Recovered</th>\n",
              "    </tr>\n",
              "    <tr>\n",
              "      <th>Country/Region</th>\n",
              "      <th></th>\n",
              "      <th></th>\n",
              "      <th></th>\n",
              "      <th></th>\n",
              "      <th></th>\n",
              "      <th></th>\n",
              "      <th></th>\n",
              "    </tr>\n",
              "  </thead>\n",
              "  <tbody>\n",
              "    <tr>\n",
              "      <th>France</th>\n",
              "      <td>5866</td>\n",
              "      <td>03/15/2020</td>\n",
              "      <td>St Martin</td>\n",
              "      <td>2020-03-15T18:20:19</td>\n",
              "      <td>4499.0</td>\n",
              "      <td>91.0</td>\n",
              "      <td>12.0</td>\n",
              "    </tr>\n",
              "    <tr>\n",
              "      <th>Mainland China</th>\n",
              "      <td>5858</td>\n",
              "      <td>03/15/2020</td>\n",
              "      <td>Zhejiang</td>\n",
              "      <td>2020-03-15T18:20:18</td>\n",
              "      <td>67794.0</td>\n",
              "      <td>3085.0</td>\n",
              "      <td>54288.0</td>\n",
              "    </tr>\n",
              "    <tr>\n",
              "      <th>US</th>\n",
              "      <td>5889</td>\n",
              "      <td>03/15/2020</td>\n",
              "      <td>Yolo County, CA</td>\n",
              "      <td>2020-03-15T18:33:03</td>\n",
              "      <td>732.0</td>\n",
              "      <td>40.0</td>\n",
              "      <td>6.0</td>\n",
              "    </tr>\n",
              "  </tbody>\n",
              "</table>\n",
              "</div>"
            ],
            "text/plain": [
              "                 SNo ObservationDate  ...  Deaths Recovered\n",
              "Country/Region                        ...                  \n",
              "France          5866      03/15/2020  ...    91.0      12.0\n",
              "Mainland China  5858      03/15/2020  ...  3085.0   54288.0\n",
              "US              5889      03/15/2020  ...    40.0       6.0\n",
              "\n",
              "[3 rows x 7 columns]"
            ]
          },
          "metadata": {
            "tags": []
          },
          "execution_count": 81
        }
      ]
    },
    {
      "cell_type": "code",
      "metadata": {
        "id": "7jzd-f8wd2_E",
        "colab_type": "code",
        "outputId": "a74892c4-3f0d-4918-d6d3-d47fc23b3b88",
        "colab": {
          "base_uri": "https://localhost:8080/",
          "height": 85
        }
      },
      "source": [
        "#for max 3 Deaths\n",
        "\n",
        "covid_data[(covid_data['Deaths']==91) & (covid_data['Country/Region']=='France')\n",
        "          |\n",
        "          (covid_data['Deaths']==3085) & (covid_data['Country/Region']=='Mainland China')\n",
        "          |\n",
        "          (covid_data['Deaths']==40) & (covid_data['Country/Region']=='US')]['Province/State']\n"
      ],
      "execution_count": 82,
      "outputs": [
        {
          "output_type": "execute_result",
          "data": {
            "text/plain": [
              "5632         Hubei\n",
              "5638        France\n",
              "5657    Washington\n",
              "Name: Province/State, dtype: object"
            ]
          },
          "metadata": {
            "tags": []
          },
          "execution_count": 82
        }
      ]
    },
    {
      "cell_type": "markdown",
      "metadata": {
        "id": "KwIOKDQ77JTG",
        "colab_type": "text"
      },
      "source": [
        "**3**"
      ]
    },
    {
      "cell_type": "code",
      "metadata": {
        "id": "jZhZLMYEd2_H",
        "colab_type": "code",
        "outputId": "f2ba23ea-fd89-4509-b30b-92f553a7a07e",
        "colab": {
          "base_uri": "https://localhost:8080/",
          "height": 85
        }
      },
      "source": [
        "#for max3 recovered\n",
        "\n",
        "covid_data[(covid_data['Recovered']==12) & (covid_data['Country/Region']=='France')\n",
        "          |\n",
        "          (covid_data['Recovered']==54288) & (covid_data['Country/Region']=='Mainland China')\n",
        "          |\n",
        "          (covid_data['Recovered']==6) & (covid_data['Country/Region']=='US')]['Province/State']\n"
      ],
      "execution_count": 83,
      "outputs": [
        {
          "output_type": "execute_result",
          "data": {
            "text/plain": [
              "5632         Hubei\n",
              "5638        France\n",
              "5664    California\n",
              "Name: Province/State, dtype: object"
            ]
          },
          "metadata": {
            "tags": []
          },
          "execution_count": 83
        }
      ]
    },
    {
      "cell_type": "code",
      "metadata": {
        "id": "Q69Mkmx7d2_J",
        "colab_type": "code",
        "outputId": "f22c67e6-f6c4-4e68-a2ec-7ce53d41d5f0",
        "colab": {
          "base_uri": "https://localhost:8080/",
          "height": 85
        }
      },
      "source": [
        "#for max3 Cofirmed\n",
        "\n",
        "covid_data[(covid_data['Confirmed']==4499) & (covid_data['Country/Region']=='France')\n",
        "          |\n",
        "          (covid_data['Confirmed']==67794) & (covid_data['Country/Region']=='Mainland China')\n",
        "          |\n",
        "          (covid_data['Confirmed']==732) & (covid_data['Country/Region']=='US')]['Province/State']\n"
      ],
      "execution_count": 84,
      "outputs": [
        {
          "output_type": "execute_result",
          "data": {
            "text/plain": [
              "5632       Hubei\n",
              "5638      France\n",
              "5655    New York\n",
              "Name: Province/State, dtype: object"
            ]
          },
          "metadata": {
            "tags": []
          },
          "execution_count": 84
        }
      ]
    },
    {
      "cell_type": "markdown",
      "metadata": {
        "id": "esKplsne7Cel",
        "colab_type": "text"
      },
      "source": [
        "**4**"
      ]
    },
    {
      "cell_type": "code",
      "metadata": {
        "id": "CBqfjV5Ad2_M",
        "colab_type": "code",
        "colab": {}
      },
      "source": [
        "covid_data_china=covid_data[covid_data['Country/Region']=='Mainland China']\n",
        "\n",
        "covid_data_china_top10=covid_data_china.nlargest(10,'Deaths')\n"
      ],
      "execution_count": 0,
      "outputs": []
    },
    {
      "cell_type": "code",
      "metadata": {
        "id": "ZffRTYIud2_P",
        "colab_type": "code",
        "outputId": "9c7a6a8c-2a87-4b49-f31b-991c24b003e5",
        "colab": {
          "base_uri": "https://localhost:8080/",
          "height": 393
        }
      },
      "source": [
        "import matplotlib.pyplot as plt\n",
        "\n",
        "\n",
        "\n",
        "\n",
        "fig = plt.figure()\n",
        "ax = fig.add_axes([0,0,1,1])\n",
        "states = covid_data_china_top10['Province/State']\n",
        "deaths = covid_data_china_top10['Deaths']\n",
        "ax.bar(states,deaths)\n",
        "\n",
        "plt.title(\"FOR STATES OF CHINA\")\n",
        "plt.xticks(rotation=45)\n",
        "plt.show()"
      ],
      "execution_count": 86,
      "outputs": [
        {
          "output_type": "display_data",
          "data": {
            "image/png": "[encoded data removed]",
            "text/plain": [
              "<Figure size 432x288 with 1 Axes>"
            ]
          },
          "metadata": {
            "tags": []
          }
        }
      ]
    },
    {
      "cell_type": "code",
      "metadata": {
        "id": "q3rAy0S5d2_S",
        "colab_type": "code",
        "outputId": "62aa4ee5-0650-4b52-ac9e-30f6c858c1f2",
        "colab": {
          "base_uri": "https://localhost:8080/",
          "height": 359
        }
      },
      "source": [
        "#for america\n",
        "\n",
        "covid_data_US=covid_data[covid_data['Country/Region']=='US']\n",
        "\n",
        "covid_data_US_top10=covid_data_US.nlargest(10,'Deaths')\n",
        "\n",
        "covid_data_US_top10"
      ],
      "execution_count": 87,
      "outputs": [
        {
          "output_type": "execute_result",
          "data": {
            "text/html": [
              "<div>\n",
              "<style scoped>\n",
              "    .dataframe tbody tr th:only-of-type {\n",
              "        vertical-align: middle;\n",
              "    }\n",
              "\n",
              "    .dataframe tbody tr th {\n",
              "        vertical-align: top;\n",
              "    }\n",
              "\n",
              "    .dataframe thead th {\n",
              "        text-align: right;\n",
              "    }\n",
              "</style>\n",
              "<table border=\"1\" class=\"dataframe\">\n",
              "  <thead>\n",
              "    <tr style=\"text-align: right;\">\n",
              "      <th></th>\n",
              "      <th>SNo</th>\n",
              "      <th>ObservationDate</th>\n",
              "      <th>Province/State</th>\n",
              "      <th>Country/Region</th>\n",
              "      <th>Last Update</th>\n",
              "      <th>Confirmed</th>\n",
              "      <th>Deaths</th>\n",
              "      <th>Recovered</th>\n",
              "    </tr>\n",
              "  </thead>\n",
              "  <tbody>\n",
              "    <tr>\n",
              "      <th>5657</th>\n",
              "      <td>5658</td>\n",
              "      <td>03/15/2020</td>\n",
              "      <td>Washington</td>\n",
              "      <td>US</td>\n",
              "      <td>2020-03-15T02:13:21</td>\n",
              "      <td>643.0</td>\n",
              "      <td>40.0</td>\n",
              "      <td>1.0</td>\n",
              "    </tr>\n",
              "    <tr>\n",
              "      <th>4294</th>\n",
              "      <td>4295</td>\n",
              "      <td>03/09/2020</td>\n",
              "      <td>King County, WA</td>\n",
              "      <td>US</td>\n",
              "      <td>2020-03-08T20:23:09</td>\n",
              "      <td>83.0</td>\n",
              "      <td>17.0</td>\n",
              "      <td>1.0</td>\n",
              "    </tr>\n",
              "    <tr>\n",
              "      <th>5664</th>\n",
              "      <td>5665</td>\n",
              "      <td>03/15/2020</td>\n",
              "      <td>California</td>\n",
              "      <td>US</td>\n",
              "      <td>2020-03-15T18:33:03</td>\n",
              "      <td>426.0</td>\n",
              "      <td>6.0</td>\n",
              "      <td>6.0</td>\n",
              "    </tr>\n",
              "    <tr>\n",
              "      <th>5697</th>\n",
              "      <td>5698</td>\n",
              "      <td>03/15/2020</td>\n",
              "      <td>Florida</td>\n",
              "      <td>US</td>\n",
              "      <td>2020-03-15T18:20:19</td>\n",
              "      <td>115.0</td>\n",
              "      <td>4.0</td>\n",
              "      <td>0.0</td>\n",
              "    </tr>\n",
              "    <tr>\n",
              "      <th>5655</th>\n",
              "      <td>5656</td>\n",
              "      <td>03/15/2020</td>\n",
              "      <td>New York</td>\n",
              "      <td>US</td>\n",
              "      <td>2020-03-15T18:20:19</td>\n",
              "      <td>732.0</td>\n",
              "      <td>3.0</td>\n",
              "      <td>0.0</td>\n",
              "    </tr>\n",
              "    <tr>\n",
              "      <th>5710</th>\n",
              "      <td>5711</td>\n",
              "      <td>03/15/2020</td>\n",
              "      <td>Louisiana</td>\n",
              "      <td>US</td>\n",
              "      <td>2020-03-15T18:20:19</td>\n",
              "      <td>91.0</td>\n",
              "      <td>2.0</td>\n",
              "      <td>0.0</td>\n",
              "    </tr>\n",
              "    <tr>\n",
              "      <th>5715</th>\n",
              "      <td>5716</td>\n",
              "      <td>03/15/2020</td>\n",
              "      <td>New Jersey</td>\n",
              "      <td>US</td>\n",
              "      <td>2020-03-15T18:20:19</td>\n",
              "      <td>98.0</td>\n",
              "      <td>2.0</td>\n",
              "      <td>0.0</td>\n",
              "    </tr>\n",
              "    <tr>\n",
              "      <th>2878</th>\n",
              "      <td>2879</td>\n",
              "      <td>03/01/2020</td>\n",
              "      <td>Seattle, WA</td>\n",
              "      <td>US</td>\n",
              "      <td>2020-03-01T21:13:12</td>\n",
              "      <td>9.0</td>\n",
              "      <td>1.0</td>\n",
              "      <td>1.0</td>\n",
              "    </tr>\n",
              "    <tr>\n",
              "      <th>4316</th>\n",
              "      <td>4317</td>\n",
              "      <td>03/09/2020</td>\n",
              "      <td>Snohomish County, WA</td>\n",
              "      <td>US</td>\n",
              "      <td>2020-03-08T21:43:03</td>\n",
              "      <td>31.0</td>\n",
              "      <td>1.0</td>\n",
              "      <td>0.0</td>\n",
              "    </tr>\n",
              "    <tr>\n",
              "      <th>4360</th>\n",
              "      <td>4361</td>\n",
              "      <td>03/09/2020</td>\n",
              "      <td>Placer County, CA</td>\n",
              "      <td>US</td>\n",
              "      <td>2020-03-09T08:23:03</td>\n",
              "      <td>7.0</td>\n",
              "      <td>1.0</td>\n",
              "      <td>0.0</td>\n",
              "    </tr>\n",
              "  </tbody>\n",
              "</table>\n",
              "</div>"
            ],
            "text/plain": [
              "       SNo ObservationDate        Province/State  ... Confirmed Deaths  Recovered\n",
              "5657  5658      03/15/2020            Washington  ...     643.0   40.0        1.0\n",
              "4294  4295      03/09/2020       King County, WA  ...      83.0   17.0        1.0\n",
              "5664  5665      03/15/2020            California  ...     426.0    6.0        6.0\n",
              "5697  5698      03/15/2020               Florida  ...     115.0    4.0        0.0\n",
              "5655  5656      03/15/2020              New York  ...     732.0    3.0        0.0\n",
              "5710  5711      03/15/2020             Louisiana  ...      91.0    2.0        0.0\n",
              "5715  5716      03/15/2020            New Jersey  ...      98.0    2.0        0.0\n",
              "2878  2879      03/01/2020           Seattle, WA  ...       9.0    1.0        1.0\n",
              "4316  4317      03/09/2020  Snohomish County, WA  ...      31.0    1.0        0.0\n",
              "4360  4361      03/09/2020     Placer County, CA  ...       7.0    1.0        0.0\n",
              "\n",
              "[10 rows x 8 columns]"
            ]
          },
          "metadata": {
            "tags": []
          },
          "execution_count": 87
        }
      ]
    },
    {
      "cell_type": "code",
      "metadata": {
        "id": "ycjCw2Gtd2_X",
        "colab_type": "code",
        "outputId": "5d93b6ca-1af9-47e8-cfe5-9d391a032863",
        "colab": {
          "base_uri": "https://localhost:8080/",
          "height": 431
        }
      },
      "source": [
        "fig = plt.figure()\n",
        "ax = fig.add_axes([0,0,1,1])\n",
        "states = covid_data_US_top10['Province/State']\n",
        "deaths = covid_data_US_top10['Deaths']\n",
        "ax.bar(states,deaths)\n",
        "\n",
        "plt.title(\"FOR STATES OF US\")\n",
        "plt.xticks(rotation=45)\n",
        "plt.show()"
      ],
      "execution_count": 88,
      "outputs": [
        {
          "output_type": "display_data",
          "data": {
            "image/png": "[encoded data removed]",
            "text/plain": [
              "<Figure size 432x288 with 1 Axes>"
            ]
          },
          "metadata": {
            "tags": []
          }
        }
      ]
    },
    {
      "cell_type": "markdown",
      "metadata": {
        "id": "N1LqS6evd2_d",
        "colab_type": "text"
      },
      "source": [
        "#### Question # 03\n",
        "\n",
        "Since we have dates in the data, let's quantify out how the virus has spread over time and which areas are most affected by the virus. This will help us figure out if the situation is getting any better over time or not.\n",
        "\n",
        "1. Plot the confirmed, deaths and recovered cases as line graphs with dates for US, Iran and China each.\n",
        "2. Looking at the plots, explain which country has seen a surge in confirmed, and death cases?\n",
        "3. Work out the death rate due to COVID-19 in these three countries.\n",
        "4. By examining the plots, which country has been able to efficiently and swiftly recover the confirmed cases? Work out the recovery rate for each country (US, Iran and China) and then answer the question?"
      ]
    },
    {
      "cell_type": "markdown",
      "metadata": {
        "id": "Nf-JBxHs7RY3",
        "colab_type": "text"
      },
      "source": [
        "**1**"
      ]
    },
    {
      "cell_type": "code",
      "metadata": {
        "id": "lzOUAbtKd2_e",
        "colab_type": "code",
        "outputId": "489d9778-adc1-4122-ee4a-05d4cdc53216",
        "colab": {
          "base_uri": "https://localhost:8080/",
          "height": 204
        }
      },
      "source": [
        "#read dataset again\n",
        "covid_data_new=pd.read_csv('covid_19_data.csv')\n",
        "covid_data_new.head()"
      ],
      "execution_count": 89,
      "outputs": [
        {
          "output_type": "execute_result",
          "data": {
            "text/html": [
              "<div>\n",
              "<style scoped>\n",
              "    .dataframe tbody tr th:only-of-type {\n",
              "        vertical-align: middle;\n",
              "    }\n",
              "\n",
              "    .dataframe tbody tr th {\n",
              "        vertical-align: top;\n",
              "    }\n",
              "\n",
              "    .dataframe thead th {\n",
              "        text-align: right;\n",
              "    }\n",
              "</style>\n",
              "<table border=\"1\" class=\"dataframe\">\n",
              "  <thead>\n",
              "    <tr style=\"text-align: right;\">\n",
              "      <th></th>\n",
              "      <th>SNo</th>\n",
              "      <th>ObservationDate</th>\n",
              "      <th>Province/State</th>\n",
              "      <th>Country/Region</th>\n",
              "      <th>Last Update</th>\n",
              "      <th>Confirmed</th>\n",
              "      <th>Deaths</th>\n",
              "      <th>Recovered</th>\n",
              "    </tr>\n",
              "  </thead>\n",
              "  <tbody>\n",
              "    <tr>\n",
              "      <th>0</th>\n",
              "      <td>1</td>\n",
              "      <td>01/22/2020</td>\n",
              "      <td>Anhui</td>\n",
              "      <td>Mainland China</td>\n",
              "      <td>1/22/2020 17:00</td>\n",
              "      <td>1.0</td>\n",
              "      <td>0.0</td>\n",
              "      <td>0.0</td>\n",
              "    </tr>\n",
              "    <tr>\n",
              "      <th>1</th>\n",
              "      <td>2</td>\n",
              "      <td>01/22/2020</td>\n",
              "      <td>Beijing</td>\n",
              "      <td>Mainland China</td>\n",
              "      <td>1/22/2020 17:00</td>\n",
              "      <td>14.0</td>\n",
              "      <td>0.0</td>\n",
              "      <td>0.0</td>\n",
              "    </tr>\n",
              "    <tr>\n",
              "      <th>2</th>\n",
              "      <td>3</td>\n",
              "      <td>01/22/2020</td>\n",
              "      <td>Chongqing</td>\n",
              "      <td>Mainland China</td>\n",
              "      <td>1/22/2020 17:00</td>\n",
              "      <td>6.0</td>\n",
              "      <td>0.0</td>\n",
              "      <td>0.0</td>\n",
              "    </tr>\n",
              "    <tr>\n",
              "      <th>3</th>\n",
              "      <td>4</td>\n",
              "      <td>01/22/2020</td>\n",
              "      <td>Fujian</td>\n",
              "      <td>Mainland China</td>\n",
              "      <td>1/22/2020 17:00</td>\n",
              "      <td>1.0</td>\n",
              "      <td>0.0</td>\n",
              "      <td>0.0</td>\n",
              "    </tr>\n",
              "    <tr>\n",
              "      <th>4</th>\n",
              "      <td>5</td>\n",
              "      <td>01/22/2020</td>\n",
              "      <td>Gansu</td>\n",
              "      <td>Mainland China</td>\n",
              "      <td>1/22/2020 17:00</td>\n",
              "      <td>0.0</td>\n",
              "      <td>0.0</td>\n",
              "      <td>0.0</td>\n",
              "    </tr>\n",
              "  </tbody>\n",
              "</table>\n",
              "</div>"
            ],
            "text/plain": [
              "   SNo ObservationDate Province/State  ... Confirmed Deaths  Recovered\n",
              "0    1      01/22/2020          Anhui  ...       1.0    0.0        0.0\n",
              "1    2      01/22/2020        Beijing  ...      14.0    0.0        0.0\n",
              "2    3      01/22/2020      Chongqing  ...       6.0    0.0        0.0\n",
              "3    4      01/22/2020         Fujian  ...       1.0    0.0        0.0\n",
              "4    5      01/22/2020          Gansu  ...       0.0    0.0        0.0\n",
              "\n",
              "[5 rows x 8 columns]"
            ]
          },
          "metadata": {
            "tags": []
          },
          "execution_count": 89
        }
      ]
    },
    {
      "cell_type": "code",
      "metadata": {
        "id": "4OumEPPdd2_g",
        "colab_type": "code",
        "outputId": "ed598c0d-ef1c-4908-db14-4d16658d4798",
        "colab": {
          "base_uri": "https://localhost:8080/",
          "height": 34
        }
      },
      "source": [
        "covid_data_new.shape"
      ],
      "execution_count": 90,
      "outputs": [
        {
          "output_type": "execute_result",
          "data": {
            "text/plain": [
              "(5890, 8)"
            ]
          },
          "metadata": {
            "tags": []
          },
          "execution_count": 90
        }
      ]
    },
    {
      "cell_type": "code",
      "metadata": {
        "id": "6SWD1Xxnd2_j",
        "colab_type": "code",
        "outputId": "0c9481a5-7efd-4ec0-89b4-f4add6bc5ccd",
        "colab": {
          "base_uri": "https://localhost:8080/",
          "height": 675
        }
      },
      "source": [
        "covid_data_US=covid_data_new[covid_data_new['Country/Region']=='US']\n",
        "covid_data_china=covid_data_new[covid_data_new['Country/Region']=='Mainland China']\n",
        "covid_data_iran=covid_data_new[covid_data_new['Country/Region']=='Iran']\n",
        "\n",
        "\n",
        "\n",
        "covid_confirmed_us=covid_data_US.groupby('ObservationDate')['Confirmed'].sum()\n",
        "covid_confirmed_iran=covid_data_iran.groupby('ObservationDate')['Confirmed'].sum()\n",
        "covid_confirmed_china=covid_data_china.groupby('ObservationDate')['Confirmed'].sum()\n",
        "\n",
        "\n",
        "\n",
        "\n",
        "covid_deaths_iran=covid_data_iran.groupby('ObservationDate')['Deaths'].sum()\n",
        "covid_deaths_us=covid_data_US.groupby('ObservationDate')['Deaths'].sum()\n",
        "covid_deaths_china=covid_data_china.groupby('ObservationDate')['Deaths'].sum()\n",
        "\n",
        "\n",
        "\n",
        "\n",
        "covid_recovered_us=covid_data_US.groupby('ObservationDate')['Recovered'].sum()\n",
        "covid_recovered_iran=covid_data_iran.groupby('ObservationDate')['Recovered'].sum()\n",
        "covid_recovered_china=covid_data_china.groupby('ObservationDate')['Recovered'].sum()\n",
        "\n",
        "\n",
        "\n",
        "# multiple line plot\n",
        "plt.figure(figsize=(20,10))\n",
        "plt.title('PLOT FOR Confirmed')\n",
        "plt.plot( covid_confirmed_us.keys() , covid_confirmed_us.values, marker='x', markerfacecolor='blue', markersize=12, color='skyblue', linewidth=4,  label=\"Confirmed US\")\n",
        "plt.plot( covid_confirmed_iran.keys(), covid_confirmed_iran.values, marker='o', color='red', linewidth=2, label=\"Confirm Iran\")\n",
        "plt.plot( covid_confirmed_china.keys(), covid_confirmed_china.values,  marker='+', color='olive', linewidth=2, linestyle='dashed', label=\"Confirmed China\")\n",
        "plt.xticks(rotation=90)\n",
        "plt.legend()\n",
        "\n",
        "for var in (covid_confirmed_us.values, covid_confirmed_iran.values,covid_confirmed_china.values):\n",
        "    plt.annotate('%0.2f' % var.max(), xy=(1, var.max()), xytext=(8, 0), \n",
        "                 xycoords=('axes fraction', 'data'), textcoords='offset points')\n",
        "\n"
      ],
      "execution_count": 91,
      "outputs": [
        {
          "output_type": "display_data",
          "data": {
            "image/png": "[encoded data removed]",
            "text/plain": [
              "<Figure size 1440x720 with 1 Axes>"
            ]
          },
          "metadata": {
            "tags": []
          }
        }
      ]
    },
    {
      "cell_type": "code",
      "metadata": {
        "id": "X9ytkn3kd2_n",
        "colab_type": "code",
        "outputId": "f8669cdb-ccc3-4d70-effd-e4423681f0c0",
        "colab": {
          "base_uri": "https://localhost:8080/",
          "height": 675
        }
      },
      "source": [
        "\n",
        "\n",
        "# multiple line plot\n",
        "plt.figure(figsize=(20,10))\n",
        "plt.title('PLOT FOR Death')\n",
        "plt.plot( covid_deaths_us.keys() , covid_deaths_us.values, marker='x', markerfacecolor='blue', markersize=12, color='skyblue', linewidth=4,  label=\"Death US\")\n",
        "plt.plot( covid_deaths_iran.keys(), covid_deaths_iran.values, marker='o', color='red', linewidth=2, label=\"Death Iran\")\n",
        "plt.plot( covid_deaths_china.keys(), covid_deaths_china.values,  marker='+', color='olive', linewidth=2, linestyle='dashed', label=\"Death China\")\n",
        "plt.xticks(rotation=90)\n",
        "plt.legend()\n",
        "\n",
        "for var in (covid_deaths_iran.values, covid_deaths_us.values,covid_deaths_china.values):\n",
        "    plt.annotate('%0.2f' % var.max(), xy=(1, var.max()), xytext=(8, 0), \n",
        "                 xycoords=('axes fraction', 'data'), textcoords='offset points')\n",
        "\n"
      ],
      "execution_count": 92,
      "outputs": [
        {
          "output_type": "display_data",
          "data": {
            "image/png": "[encoded data removed]",
            "text/plain": [
              "<Figure size 1440x720 with 1 Axes>"
            ]
          },
          "metadata": {
            "tags": []
          }
        }
      ]
    },
    {
      "cell_type": "code",
      "metadata": {
        "id": "zH-zwbepd2_p",
        "colab_type": "code",
        "outputId": "1ef003ab-56f1-42c6-9297-abf3dc9d14a5",
        "colab": {
          "base_uri": "https://localhost:8080/",
          "height": 675
        }
      },
      "source": [
        "\n",
        "\n",
        "\n",
        "# multiple line plot\n",
        "plt.figure(figsize=(20,10))\n",
        "plt.title('PLOT FOR Recoveries')\n",
        "plt.plot( covid_recovered_us.keys() , covid_recovered_us.values, marker='x', markerfacecolor='blue', markersize=12, color='skyblue', linewidth=4,  label=\"Recovered US\")\n",
        "plt.plot( covid_recovered_iran.keys(), covid_recovered_iran.values, marker='o', color='red', linewidth=2, label=\"Recovered Iran\")\n",
        "plt.plot( covid_recovered_china.keys(), covid_recovered_china.values,  marker='+', color='olive', linewidth=2, linestyle='dashed', label=\"Recovered China\")\n",
        "plt.xticks(rotation=90)\n",
        "plt.legend()\n",
        "\n",
        "for var in (covid_recovered_us.values, covid_recovered_iran.values,covid_recovered_china.values):\n",
        "    plt.annotate('%0.2f' % var.max(), xy=(1, var.max()), xytext=(8, 0), \n",
        "                 xycoords=('axes fraction', 'data'), textcoords='offset points')\n",
        "\n"
      ],
      "execution_count": 93,
      "outputs": [
        {
          "output_type": "display_data",
          "data": {
            "image/png": "[encoded data removed]",
            "text/plain": [
              "<Figure size 1440x720 with 1 Axes>"
            ]
          },
          "metadata": {
            "tags": []
          }
        }
      ]
    },
    {
      "cell_type": "markdown",
      "metadata": {
        "id": "Slb-7n8_d2_s",
        "colab_type": "text"
      },
      "source": [
        "## 2. Looking at the plots, explain which country has seen a surge in confirmed, and death cases?\n",
        "\n",
        "### For confirmed: US has seen a sudden surge because the line of the grapgh was uniform and then sudden exponential increase\n",
        "\n",
        "### For Death: Iran has suden surge in the death because of exponnetial growth n the end of its line \n"
      ]
    },
    {
      "cell_type": "markdown",
      "metadata": {
        "id": "IBK4D9qG7XMU",
        "colab_type": "text"
      },
      "source": [
        "**3**"
      ]
    },
    {
      "cell_type": "code",
      "metadata": {
        "id": "gKC82MWsd2_t",
        "colab_type": "code",
        "outputId": "7e83ff34-2cb1-4c0f-a45f-a8f64f1f3e34",
        "colab": {
          "base_uri": "https://localhost:8080/",
          "height": 68
        }
      },
      "source": [
        "#death rates\n",
        "\n",
        "deathRateUs=(covid_deaths_us.max()/covid_confirmed_us.max())*100\n",
        "deathRateUsIran=(covid_deaths_iran.max()/covid_confirmed_iran.max())*100\n",
        "deathRateChina=(covid_deaths_china.max()/covid_confirmed_china.max())*100\n",
        "\n",
        "print('US death rate: ',deathRateUs)\n",
        "print('Iran death rate: ',deathRateUsIran)\n",
        "print('China death rate: ',deathRateChina)"
      ],
      "execution_count": 94,
      "outputs": [
        {
          "output_type": "stream",
          "text": [
            "US death rate:  1.8005144326950557\n",
            "Iran death rate:  5.194432486726933\n",
            "China death rate:  3.9568078369285575\n"
          ],
          "name": "stdout"
        }
      ]
    },
    {
      "cell_type": "markdown",
      "metadata": {
        "id": "uhkeKw9-7cCK",
        "colab_type": "text"
      },
      "source": [
        "**4**"
      ]
    },
    {
      "cell_type": "code",
      "metadata": {
        "id": "JiXZ355ad2_v",
        "colab_type": "code",
        "outputId": "a049d0cf-7734-4fc9-8b78-ddfb252ca0a0",
        "colab": {
          "base_uri": "https://localhost:8080/",
          "height": 68
        }
      },
      "source": [
        "#recovery Rates\n",
        "\n",
        "recoverRateUs=(covid_recovered_us.max()/covid_confirmed_us.max())*100\n",
        "recoverRateIran=(covid_recovered_iran.max()/covid_confirmed_iran.max())*100\n",
        "recoverRateChina=(covid_recovered_china.max()/covid_confirmed_china.max())*100\n",
        "\n",
        "\n",
        "print('US Recovery rate: ',recoverRateUs)\n",
        "print('Iran Recovery rate: ',recoverRateIran)\n",
        "print('China Recovery rate: ',recoverRateChina)\n"
      ],
      "execution_count": 95,
      "outputs": [
        {
          "output_type": "stream",
          "text": [
            "US Recovery rate:  0.3429551300371535\n",
            "Iran Recovery rate:  32.93155402496771\n",
            "China Recovery rate:  82.78003166435781\n"
          ],
          "name": "stdout"
        }
      ]
    },
    {
      "cell_type": "markdown",
      "metadata": {
        "id": "PTh_JkOnd2_y",
        "colab_type": "text"
      },
      "source": [
        "#### Question # 04\n",
        "\n",
        "In this question, we will look at another data file namely `time_series_covid_19_deaths.csv`.\n",
        "In this file, time series data of death occurred due to COVID-19 in countries/states/provinces is given.\n",
        "\n",
        "1. Read the file and examine the features.\n",
        "2. Clean the dataset by dropping missing rows with data points.\n",
        "3. Since you already have information for States/Provinces in US, and China with most deaths, you can use those States/Provinces and plot the number of deaths against each of the top 5 states in both China and US."
      ]
    },
    {
      "cell_type": "markdown",
      "metadata": {
        "id": "HcDppTH67f08",
        "colab_type": "text"
      },
      "source": [
        "**1**"
      ]
    },
    {
      "cell_type": "code",
      "metadata": {
        "id": "DMA8Throd2_z",
        "colab_type": "code",
        "outputId": "47075ddd-7bfb-4025-b058-b91f12073d8d",
        "colab": {
          "base_uri": "https://localhost:8080/",
          "height": 224
        }
      },
      "source": [
        "covid_deaths_data=pd.read_csv('time_series_covid_19_deaths.csv');\n",
        "covid_deaths_data.head()"
      ],
      "execution_count": 96,
      "outputs": [
        {
          "output_type": "execute_result",
          "data": {
            "text/html": [
              "<div>\n",
              "<style scoped>\n",
              "    .dataframe tbody tr th:only-of-type {\n",
              "        vertical-align: middle;\n",
              "    }\n",
              "\n",
              "    .dataframe tbody tr th {\n",
              "        vertical-align: top;\n",
              "    }\n",
              "\n",
              "    .dataframe thead th {\n",
              "        text-align: right;\n",
              "    }\n",
              "</style>\n",
              "<table border=\"1\" class=\"dataframe\">\n",
              "  <thead>\n",
              "    <tr style=\"text-align: right;\">\n",
              "      <th></th>\n",
              "      <th>Province/State</th>\n",
              "      <th>Country/Region</th>\n",
              "      <th>Lat</th>\n",
              "      <th>Long</th>\n",
              "      <th>1/22/20</th>\n",
              "      <th>1/23/20</th>\n",
              "      <th>1/24/20</th>\n",
              "      <th>1/25/20</th>\n",
              "      <th>1/26/20</th>\n",
              "      <th>1/27/20</th>\n",
              "      <th>1/28/20</th>\n",
              "      <th>1/29/20</th>\n",
              "      <th>1/30/20</th>\n",
              "      <th>1/31/20</th>\n",
              "      <th>2/1/20</th>\n",
              "      <th>2/2/20</th>\n",
              "      <th>2/3/20</th>\n",
              "      <th>2/4/20</th>\n",
              "      <th>2/5/20</th>\n",
              "      <th>2/6/20</th>\n",
              "      <th>2/7/20</th>\n",
              "      <th>2/8/20</th>\n",
              "      <th>2/9/20</th>\n",
              "      <th>2/10/20</th>\n",
              "      <th>2/11/20</th>\n",
              "      <th>2/12/20</th>\n",
              "      <th>2/13/20</th>\n",
              "      <th>2/14/20</th>\n",
              "      <th>2/15/20</th>\n",
              "      <th>2/16/20</th>\n",
              "      <th>2/17/20</th>\n",
              "      <th>2/18/20</th>\n",
              "      <th>2/19/20</th>\n",
              "      <th>2/20/20</th>\n",
              "      <th>2/21/20</th>\n",
              "      <th>2/22/20</th>\n",
              "      <th>2/23/20</th>\n",
              "      <th>2/24/20</th>\n",
              "      <th>2/25/20</th>\n",
              "      <th>2/26/20</th>\n",
              "      <th>2/27/20</th>\n",
              "      <th>2/28/20</th>\n",
              "      <th>2/29/20</th>\n",
              "      <th>3/1/20</th>\n",
              "      <th>3/2/20</th>\n",
              "      <th>3/3/20</th>\n",
              "      <th>3/4/20</th>\n",
              "      <th>3/5/20</th>\n",
              "      <th>3/6/20</th>\n",
              "      <th>3/7/20</th>\n",
              "      <th>3/8/20</th>\n",
              "      <th>3/9/20</th>\n",
              "      <th>3/10/20</th>\n",
              "      <th>3/11/20</th>\n",
              "      <th>3/12/20</th>\n",
              "      <th>3/13/20</th>\n",
              "      <th>3/14/20</th>\n",
              "    </tr>\n",
              "  </thead>\n",
              "  <tbody>\n",
              "    <tr>\n",
              "      <th>0</th>\n",
              "      <td>NaN</td>\n",
              "      <td>Thailand</td>\n",
              "      <td>15.0000</td>\n",
              "      <td>101.0000</td>\n",
              "      <td>0</td>\n",
              "      <td>0</td>\n",
              "      <td>0</td>\n",
              "      <td>0</td>\n",
              "      <td>0</td>\n",
              "      <td>0</td>\n",
              "      <td>0</td>\n",
              "      <td>0</td>\n",
              "      <td>0</td>\n",
              "      <td>0</td>\n",
              "      <td>0</td>\n",
              "      <td>0</td>\n",
              "      <td>0</td>\n",
              "      <td>0</td>\n",
              "      <td>0</td>\n",
              "      <td>0</td>\n",
              "      <td>0</td>\n",
              "      <td>0</td>\n",
              "      <td>0</td>\n",
              "      <td>0</td>\n",
              "      <td>0</td>\n",
              "      <td>0</td>\n",
              "      <td>0</td>\n",
              "      <td>0</td>\n",
              "      <td>0</td>\n",
              "      <td>0</td>\n",
              "      <td>0</td>\n",
              "      <td>0</td>\n",
              "      <td>0</td>\n",
              "      <td>0</td>\n",
              "      <td>0</td>\n",
              "      <td>0</td>\n",
              "      <td>0</td>\n",
              "      <td>0</td>\n",
              "      <td>0</td>\n",
              "      <td>0</td>\n",
              "      <td>0</td>\n",
              "      <td>0</td>\n",
              "      <td>0</td>\n",
              "      <td>1</td>\n",
              "      <td>1</td>\n",
              "      <td>1</td>\n",
              "      <td>1</td>\n",
              "      <td>1</td>\n",
              "      <td>1</td>\n",
              "      <td>1</td>\n",
              "      <td>1</td>\n",
              "      <td>1</td>\n",
              "      <td>1</td>\n",
              "      <td>1</td>\n",
              "      <td>1</td>\n",
              "      <td>1</td>\n",
              "      <td>1</td>\n",
              "    </tr>\n",
              "    <tr>\n",
              "      <th>1</th>\n",
              "      <td>NaN</td>\n",
              "      <td>Japan</td>\n",
              "      <td>36.0000</td>\n",
              "      <td>138.0000</td>\n",
              "      <td>0</td>\n",
              "      <td>0</td>\n",
              "      <td>0</td>\n",
              "      <td>0</td>\n",
              "      <td>0</td>\n",
              "      <td>0</td>\n",
              "      <td>0</td>\n",
              "      <td>0</td>\n",
              "      <td>0</td>\n",
              "      <td>0</td>\n",
              "      <td>0</td>\n",
              "      <td>0</td>\n",
              "      <td>0</td>\n",
              "      <td>0</td>\n",
              "      <td>0</td>\n",
              "      <td>0</td>\n",
              "      <td>0</td>\n",
              "      <td>0</td>\n",
              "      <td>0</td>\n",
              "      <td>0</td>\n",
              "      <td>0</td>\n",
              "      <td>0</td>\n",
              "      <td>1</td>\n",
              "      <td>1</td>\n",
              "      <td>1</td>\n",
              "      <td>1</td>\n",
              "      <td>1</td>\n",
              "      <td>1</td>\n",
              "      <td>1</td>\n",
              "      <td>1</td>\n",
              "      <td>1</td>\n",
              "      <td>1</td>\n",
              "      <td>1</td>\n",
              "      <td>1</td>\n",
              "      <td>1</td>\n",
              "      <td>2</td>\n",
              "      <td>4</td>\n",
              "      <td>4</td>\n",
              "      <td>5</td>\n",
              "      <td>6</td>\n",
              "      <td>6</td>\n",
              "      <td>6</td>\n",
              "      <td>6</td>\n",
              "      <td>6</td>\n",
              "      <td>6</td>\n",
              "      <td>6</td>\n",
              "      <td>6</td>\n",
              "      <td>10</td>\n",
              "      <td>10</td>\n",
              "      <td>15</td>\n",
              "      <td>16</td>\n",
              "      <td>19</td>\n",
              "      <td>22</td>\n",
              "    </tr>\n",
              "    <tr>\n",
              "      <th>2</th>\n",
              "      <td>NaN</td>\n",
              "      <td>Singapore</td>\n",
              "      <td>1.2833</td>\n",
              "      <td>103.8333</td>\n",
              "      <td>0</td>\n",
              "      <td>0</td>\n",
              "      <td>0</td>\n",
              "      <td>0</td>\n",
              "      <td>0</td>\n",
              "      <td>0</td>\n",
              "      <td>0</td>\n",
              "      <td>0</td>\n",
              "      <td>0</td>\n",
              "      <td>0</td>\n",
              "      <td>0</td>\n",
              "      <td>0</td>\n",
              "      <td>0</td>\n",
              "      <td>0</td>\n",
              "      <td>0</td>\n",
              "      <td>0</td>\n",
              "      <td>0</td>\n",
              "      <td>0</td>\n",
              "      <td>0</td>\n",
              "      <td>0</td>\n",
              "      <td>0</td>\n",
              "      <td>0</td>\n",
              "      <td>0</td>\n",
              "      <td>0</td>\n",
              "      <td>0</td>\n",
              "      <td>0</td>\n",
              "      <td>0</td>\n",
              "      <td>0</td>\n",
              "      <td>0</td>\n",
              "      <td>0</td>\n",
              "      <td>0</td>\n",
              "      <td>0</td>\n",
              "      <td>0</td>\n",
              "      <td>0</td>\n",
              "      <td>0</td>\n",
              "      <td>0</td>\n",
              "      <td>0</td>\n",
              "      <td>0</td>\n",
              "      <td>0</td>\n",
              "      <td>0</td>\n",
              "      <td>0</td>\n",
              "      <td>0</td>\n",
              "      <td>0</td>\n",
              "      <td>0</td>\n",
              "      <td>0</td>\n",
              "      <td>0</td>\n",
              "      <td>0</td>\n",
              "      <td>0</td>\n",
              "      <td>0</td>\n",
              "      <td>0</td>\n",
              "      <td>0</td>\n",
              "      <td>0</td>\n",
              "      <td>0</td>\n",
              "    </tr>\n",
              "    <tr>\n",
              "      <th>3</th>\n",
              "      <td>NaN</td>\n",
              "      <td>Nepal</td>\n",
              "      <td>28.1667</td>\n",
              "      <td>84.2500</td>\n",
              "      <td>0</td>\n",
              "      <td>0</td>\n",
              "      <td>0</td>\n",
              "      <td>0</td>\n",
              "      <td>0</td>\n",
              "      <td>0</td>\n",
              "      <td>0</td>\n",
              "      <td>0</td>\n",
              "      <td>0</td>\n",
              "      <td>0</td>\n",
              "      <td>0</td>\n",
              "      <td>0</td>\n",
              "      <td>0</td>\n",
              "      <td>0</td>\n",
              "      <td>0</td>\n",
              "      <td>0</td>\n",
              "      <td>0</td>\n",
              "      <td>0</td>\n",
              "      <td>0</td>\n",
              "      <td>0</td>\n",
              "      <td>0</td>\n",
              "      <td>0</td>\n",
              "      <td>0</td>\n",
              "      <td>0</td>\n",
              "      <td>0</td>\n",
              "      <td>0</td>\n",
              "      <td>0</td>\n",
              "      <td>0</td>\n",
              "      <td>0</td>\n",
              "      <td>0</td>\n",
              "      <td>0</td>\n",
              "      <td>0</td>\n",
              "      <td>0</td>\n",
              "      <td>0</td>\n",
              "      <td>0</td>\n",
              "      <td>0</td>\n",
              "      <td>0</td>\n",
              "      <td>0</td>\n",
              "      <td>0</td>\n",
              "      <td>0</td>\n",
              "      <td>0</td>\n",
              "      <td>0</td>\n",
              "      <td>0</td>\n",
              "      <td>0</td>\n",
              "      <td>0</td>\n",
              "      <td>0</td>\n",
              "      <td>0</td>\n",
              "      <td>0</td>\n",
              "      <td>0</td>\n",
              "      <td>0</td>\n",
              "      <td>0</td>\n",
              "      <td>0</td>\n",
              "      <td>0</td>\n",
              "    </tr>\n",
              "    <tr>\n",
              "      <th>4</th>\n",
              "      <td>NaN</td>\n",
              "      <td>Malaysia</td>\n",
              "      <td>2.5000</td>\n",
              "      <td>112.5000</td>\n",
              "      <td>0</td>\n",
              "      <td>0</td>\n",
              "      <td>0</td>\n",
              "      <td>0</td>\n",
              "      <td>0</td>\n",
              "      <td>0</td>\n",
              "      <td>0</td>\n",
              "      <td>0</td>\n",
              "      <td>0</td>\n",
              "      <td>0</td>\n",
              "      <td>0</td>\n",
              "      <td>0</td>\n",
              "      <td>0</td>\n",
              "      <td>0</td>\n",
              "      <td>0</td>\n",
              "      <td>0</td>\n",
              "      <td>0</td>\n",
              "      <td>0</td>\n",
              "      <td>0</td>\n",
              "      <td>0</td>\n",
              "      <td>0</td>\n",
              "      <td>0</td>\n",
              "      <td>0</td>\n",
              "      <td>0</td>\n",
              "      <td>0</td>\n",
              "      <td>0</td>\n",
              "      <td>0</td>\n",
              "      <td>0</td>\n",
              "      <td>0</td>\n",
              "      <td>0</td>\n",
              "      <td>0</td>\n",
              "      <td>0</td>\n",
              "      <td>0</td>\n",
              "      <td>0</td>\n",
              "      <td>0</td>\n",
              "      <td>0</td>\n",
              "      <td>0</td>\n",
              "      <td>0</td>\n",
              "      <td>0</td>\n",
              "      <td>0</td>\n",
              "      <td>0</td>\n",
              "      <td>0</td>\n",
              "      <td>0</td>\n",
              "      <td>0</td>\n",
              "      <td>0</td>\n",
              "      <td>0</td>\n",
              "      <td>0</td>\n",
              "      <td>0</td>\n",
              "      <td>0</td>\n",
              "      <td>0</td>\n",
              "      <td>0</td>\n",
              "      <td>0</td>\n",
              "      <td>0</td>\n",
              "    </tr>\n",
              "  </tbody>\n",
              "</table>\n",
              "</div>"
            ],
            "text/plain": [
              "  Province/State Country/Region      Lat  ...  3/12/20  3/13/20  3/14/20\n",
              "0            NaN       Thailand  15.0000  ...        1        1        1\n",
              "1            NaN          Japan  36.0000  ...       16       19       22\n",
              "2            NaN      Singapore   1.2833  ...        0        0        0\n",
              "3            NaN          Nepal  28.1667  ...        0        0        0\n",
              "4            NaN       Malaysia   2.5000  ...        0        0        0\n",
              "\n",
              "[5 rows x 57 columns]"
            ]
          },
          "metadata": {
            "tags": []
          },
          "execution_count": 96
        }
      ]
    },
    {
      "cell_type": "code",
      "metadata": {
        "id": "5u1CHXrQd2_3",
        "colab_type": "code",
        "outputId": "b4ca2448-9c09-46ac-a502-5a3774d84630",
        "colab": {
          "base_uri": "https://localhost:8080/",
          "height": 204
        }
      },
      "source": [
        "covid_data_US_top10           #top10 values wrt deaths\n",
        "\n",
        "covid_data_US_top5=covid_data_US_top10.nlargest(5,'Deaths')\n",
        "covid_data_US_top5             #top5"
      ],
      "execution_count": 97,
      "outputs": [
        {
          "output_type": "execute_result",
          "data": {
            "text/html": [
              "<div>\n",
              "<style scoped>\n",
              "    .dataframe tbody tr th:only-of-type {\n",
              "        vertical-align: middle;\n",
              "    }\n",
              "\n",
              "    .dataframe tbody tr th {\n",
              "        vertical-align: top;\n",
              "    }\n",
              "\n",
              "    .dataframe thead th {\n",
              "        text-align: right;\n",
              "    }\n",
              "</style>\n",
              "<table border=\"1\" class=\"dataframe\">\n",
              "  <thead>\n",
              "    <tr style=\"text-align: right;\">\n",
              "      <th></th>\n",
              "      <th>SNo</th>\n",
              "      <th>ObservationDate</th>\n",
              "      <th>Province/State</th>\n",
              "      <th>Country/Region</th>\n",
              "      <th>Last Update</th>\n",
              "      <th>Confirmed</th>\n",
              "      <th>Deaths</th>\n",
              "      <th>Recovered</th>\n",
              "    </tr>\n",
              "  </thead>\n",
              "  <tbody>\n",
              "    <tr>\n",
              "      <th>5657</th>\n",
              "      <td>5658</td>\n",
              "      <td>03/15/2020</td>\n",
              "      <td>Washington</td>\n",
              "      <td>US</td>\n",
              "      <td>2020-03-15T02:13:21</td>\n",
              "      <td>643.0</td>\n",
              "      <td>40.0</td>\n",
              "      <td>1.0</td>\n",
              "    </tr>\n",
              "    <tr>\n",
              "      <th>4294</th>\n",
              "      <td>4295</td>\n",
              "      <td>03/09/2020</td>\n",
              "      <td>King County, WA</td>\n",
              "      <td>US</td>\n",
              "      <td>2020-03-08T20:23:09</td>\n",
              "      <td>83.0</td>\n",
              "      <td>17.0</td>\n",
              "      <td>1.0</td>\n",
              "    </tr>\n",
              "    <tr>\n",
              "      <th>5664</th>\n",
              "      <td>5665</td>\n",
              "      <td>03/15/2020</td>\n",
              "      <td>California</td>\n",
              "      <td>US</td>\n",
              "      <td>2020-03-15T18:33:03</td>\n",
              "      <td>426.0</td>\n",
              "      <td>6.0</td>\n",
              "      <td>6.0</td>\n",
              "    </tr>\n",
              "    <tr>\n",
              "      <th>5697</th>\n",
              "      <td>5698</td>\n",
              "      <td>03/15/2020</td>\n",
              "      <td>Florida</td>\n",
              "      <td>US</td>\n",
              "      <td>2020-03-15T18:20:19</td>\n",
              "      <td>115.0</td>\n",
              "      <td>4.0</td>\n",
              "      <td>0.0</td>\n",
              "    </tr>\n",
              "    <tr>\n",
              "      <th>5655</th>\n",
              "      <td>5656</td>\n",
              "      <td>03/15/2020</td>\n",
              "      <td>New York</td>\n",
              "      <td>US</td>\n",
              "      <td>2020-03-15T18:20:19</td>\n",
              "      <td>732.0</td>\n",
              "      <td>3.0</td>\n",
              "      <td>0.0</td>\n",
              "    </tr>\n",
              "  </tbody>\n",
              "</table>\n",
              "</div>"
            ],
            "text/plain": [
              "       SNo ObservationDate   Province/State  ... Confirmed Deaths  Recovered\n",
              "5657  5658      03/15/2020       Washington  ...     643.0   40.0        1.0\n",
              "4294  4295      03/09/2020  King County, WA  ...      83.0   17.0        1.0\n",
              "5664  5665      03/15/2020       California  ...     426.0    6.0        6.0\n",
              "5697  5698      03/15/2020          Florida  ...     115.0    4.0        0.0\n",
              "5655  5656      03/15/2020         New York  ...     732.0    3.0        0.0\n",
              "\n",
              "[5 rows x 8 columns]"
            ]
          },
          "metadata": {
            "tags": []
          },
          "execution_count": 97
        }
      ]
    },
    {
      "cell_type": "code",
      "metadata": {
        "id": "PfQJ5rJjd2_5",
        "colab_type": "code",
        "outputId": "757bcb34-eb0f-4416-9d4b-c03235abf3d7",
        "colab": {
          "base_uri": "https://localhost:8080/",
          "height": 673
        }
      },
      "source": [
        "dates=covid_deaths_data.iloc[:,4:].columns\n",
        "\n",
        "\n",
        "# multiple line plot\n",
        "plt.figure(figsize=(20,10))\n",
        "plt.title('PLOT FOR top 5 US states')\n",
        "plt.plot(  dates , covid_deaths_data.loc[covid_deaths_data['Province/State']== covid_data_US_top5['Province/State'].values[0]].iloc[:,4:].T , marker='x', markerfacecolor='blue', markersize=12, color='skyblue', linewidth=4,  label=\"Washington\")\n",
        "plt.plot(   dates , covid_deaths_data.loc[covid_deaths_data['Province/State']== covid_data_US_top5['Province/State'].values[1]].iloc[:,4:].T , marker='o', color='red', linewidth=2, label=\"King County, WA\")\n",
        "plt.plot(   dates , covid_deaths_data.loc[covid_deaths_data['Province/State']== covid_data_US_top5['Province/State'].values[2]].iloc[:,4:].T ,  marker='+', color='olive', linewidth=2, linestyle='dashed', label=\"California\")\n",
        "plt.plot(   dates , covid_deaths_data.loc[covid_deaths_data['Province/State']== covid_data_US_top5['Province/State'].values[3]].iloc[:,4:].T ,  marker='+', color='green', linewidth=2, linestyle='dashed', label=\"Florida\")\n",
        "plt.plot(   dates , covid_deaths_data.loc[covid_deaths_data['Province/State']== covid_data_US_top5['Province/State'].values[4]].iloc[:,4:].T ,  marker='+', color='black', linewidth=2, linestyle='dashed', label=\"New York\")\n",
        "\n",
        "plt.grid(True)\n",
        "\n",
        "plt.xticks(rotation=90)\n",
        "plt.legend()\n",
        "\n"
      ],
      "execution_count": 98,
      "outputs": [
        {
          "output_type": "execute_result",
          "data": {
            "text/plain": [
              "<matplotlib.legend.Legend at 0x7f98553c0d68>"
            ]
          },
          "metadata": {
            "tags": []
          },
          "execution_count": 98
        },
        {
          "output_type": "display_data",
          "data": {
            "image/png": "[encoded data removed]",
            "text/plain": [
              "<Figure size 1440x720 with 1 Axes>"
            ]
          },
          "metadata": {
            "tags": []
          }
        }
      ]
    },
    {
      "cell_type": "code",
      "metadata": {
        "id": "-didhtocd2_8",
        "colab_type": "code",
        "outputId": "65d0b0de-9ae5-4926-f5c6-0254d4b05de6",
        "colab": {
          "base_uri": "https://localhost:8080/",
          "height": 204
        }
      },
      "source": [
        "covid_data_china_top10           #top10 values wrt deaths\n",
        "\n",
        "covid_data_china_top5=covid_data_china_top10.nlargest(5,'Deaths')\n",
        "covid_data_china_top5             #top5\n"
      ],
      "execution_count": 99,
      "outputs": [
        {
          "output_type": "execute_result",
          "data": {
            "text/html": [
              "<div>\n",
              "<style scoped>\n",
              "    .dataframe tbody tr th:only-of-type {\n",
              "        vertical-align: middle;\n",
              "    }\n",
              "\n",
              "    .dataframe tbody tr th {\n",
              "        vertical-align: top;\n",
              "    }\n",
              "\n",
              "    .dataframe thead th {\n",
              "        text-align: right;\n",
              "    }\n",
              "</style>\n",
              "<table border=\"1\" class=\"dataframe\">\n",
              "  <thead>\n",
              "    <tr style=\"text-align: right;\">\n",
              "      <th></th>\n",
              "      <th>SNo</th>\n",
              "      <th>ObservationDate</th>\n",
              "      <th>Province/State</th>\n",
              "      <th>Country/Region</th>\n",
              "      <th>Last Update</th>\n",
              "      <th>Confirmed</th>\n",
              "      <th>Deaths</th>\n",
              "      <th>Recovered</th>\n",
              "    </tr>\n",
              "  </thead>\n",
              "  <tbody>\n",
              "    <tr>\n",
              "      <th>5632</th>\n",
              "      <td>5633</td>\n",
              "      <td>03/15/2020</td>\n",
              "      <td>Hubei</td>\n",
              "      <td>Mainland China</td>\n",
              "      <td>2020-03-15T18:20:18</td>\n",
              "      <td>67794.0</td>\n",
              "      <td>3085.0</td>\n",
              "      <td>54288.0</td>\n",
              "    </tr>\n",
              "    <tr>\n",
              "      <th>5641</th>\n",
              "      <td>5642</td>\n",
              "      <td>03/15/2020</td>\n",
              "      <td>Henan</td>\n",
              "      <td>Mainland China</td>\n",
              "      <td>2020-03-14T09:53:08</td>\n",
              "      <td>1273.0</td>\n",
              "      <td>22.0</td>\n",
              "      <td>1250.0</td>\n",
              "    </tr>\n",
              "    <tr>\n",
              "      <th>5661</th>\n",
              "      <td>5662</td>\n",
              "      <td>03/15/2020</td>\n",
              "      <td>Heilongjiang</td>\n",
              "      <td>Mainland China</td>\n",
              "      <td>2020-03-15T00:33:02</td>\n",
              "      <td>482.0</td>\n",
              "      <td>13.0</td>\n",
              "      <td>453.0</td>\n",
              "    </tr>\n",
              "    <tr>\n",
              "      <th>5640</th>\n",
              "      <td>5641</td>\n",
              "      <td>03/15/2020</td>\n",
              "      <td>Guangdong</td>\n",
              "      <td>Mainland China</td>\n",
              "      <td>2020-03-15T18:20:18</td>\n",
              "      <td>1360.0</td>\n",
              "      <td>8.0</td>\n",
              "      <td>1304.0</td>\n",
              "    </tr>\n",
              "    <tr>\n",
              "      <th>5662</th>\n",
              "      <td>5663</td>\n",
              "      <td>03/15/2020</td>\n",
              "      <td>Beijing</td>\n",
              "      <td>Mainland China</td>\n",
              "      <td>2020-03-15T01:13:10</td>\n",
              "      <td>442.0</td>\n",
              "      <td>8.0</td>\n",
              "      <td>353.0</td>\n",
              "    </tr>\n",
              "  </tbody>\n",
              "</table>\n",
              "</div>"
            ],
            "text/plain": [
              "       SNo ObservationDate Province/State  ... Confirmed  Deaths  Recovered\n",
              "5632  5633      03/15/2020          Hubei  ...   67794.0  3085.0    54288.0\n",
              "5641  5642      03/15/2020          Henan  ...    1273.0    22.0     1250.0\n",
              "5661  5662      03/15/2020   Heilongjiang  ...     482.0    13.0      453.0\n",
              "5640  5641      03/15/2020      Guangdong  ...    1360.0     8.0     1304.0\n",
              "5662  5663      03/15/2020        Beijing  ...     442.0     8.0      353.0\n",
              "\n",
              "[5 rows x 8 columns]"
            ]
          },
          "metadata": {
            "tags": []
          },
          "execution_count": 99
        }
      ]
    },
    {
      "cell_type": "code",
      "metadata": {
        "id": "faoQVTKsd2__",
        "colab_type": "code",
        "outputId": "3e1df64f-8aa0-475c-8ccc-d2a5254c46da",
        "colab": {
          "base_uri": "https://localhost:8080/",
          "height": 673
        }
      },
      "source": [
        "\n",
        "# multiple line plot\n",
        "plt.figure(figsize=(20,10))\n",
        "plt.title('PLOT FOR top 5 Chinese State wrt deaths')\n",
        "plt.plot(  dates , covid_deaths_data.loc[covid_deaths_data['Province/State']== covid_data_china_top5['Province/State'].values[0]].iloc[:,4:].T , marker='x', markerfacecolor='blue', markersize=12, color='skyblue', linewidth=4,  label=\"Hubei\")\n",
        "plt.plot(   dates , covid_deaths_data.loc[covid_deaths_data['Province/State']== covid_data_china_top5['Province/State'].values[1]].iloc[:,4:].T , marker='o', color='red', linewidth=2, label=\"Henan\")\n",
        "plt.plot(   dates , covid_deaths_data.loc[covid_deaths_data['Province/State']== covid_data_china_top5['Province/State'].values[2]].iloc[:,4:].T ,  marker='+', color='olive', linewidth=2, linestyle='dashed', label=\"Heilongjiang\")\n",
        "plt.plot(   dates , covid_deaths_data.loc[covid_deaths_data['Province/State']== covid_data_china_top5['Province/State'].values[3]].iloc[:,4:].T ,  marker='+', color='green', linewidth=2, linestyle='dashed', label=\"Guangdong\")\n",
        "plt.plot(   dates , covid_deaths_data.loc[covid_deaths_data['Province/State']== covid_data_china_top5['Province/State'].values[4]].iloc[:,4:].T ,  marker='+', color='black', linewidth=2, linestyle='dashed', label=\"Beijing\")\n",
        "\n",
        "plt.grid(True)\n",
        "\n",
        "plt.xticks(rotation=90)\n",
        "plt.legend()\n",
        "\n"
      ],
      "execution_count": 100,
      "outputs": [
        {
          "output_type": "execute_result",
          "data": {
            "text/plain": [
              "<matplotlib.legend.Legend at 0x7f98552619e8>"
            ]
          },
          "metadata": {
            "tags": []
          },
          "execution_count": 100
        },
        {
          "output_type": "display_data",
          "data": {
            "image/png": "[encoded data removed]",
            "text/plain": [
              "<Figure size 1440x720 with 1 Axes>"
            ]
          },
          "metadata": {
            "tags": []
          }
        }
      ]
    },
    {
      "cell_type": "markdown",
      "metadata": {
        "id": "Z5Cm0pf9d3AD",
        "colab_type": "text"
      },
      "source": [
        "#### Question # 05\n",
        "\n",
        "This aspect is interesting since we would get to work with Geographical Plots. You have the latitude and longitude data from the `time_series_covid_19_deaths.csv` data file. You will use that for this question.\n",
        "\n",
        "We will use BaseMap library to plot the latitude and longitude points on the world map.\n",
        "You can download BaseMap by running the following command in your terminal/command line prompt: \n",
        "```\n",
        "pip3 install https://github.com/matplotlib/basemap/archive/v1.1.0.tar.gz\n",
        "```\n",
        "\n",
        "1. Once you have it installed, load up a basic world map and plot the values.\n",
        "2. By visually examining, answer in which countries, the points scatter the most?\n",
        "\n",
        "For reference and working directions with Basemap, you may take help from this video tutorial: <a href=\"https://www.youtube.com/watch?time_continue=114&v=XiZbrii49pI&feature=emb_title\" BASEMAP >BASEMAP TUTORIAL</a>"
      ]
    },
    {
      "cell_type": "code",
      "metadata": {
        "id": "UPo7Kmjyec3H",
        "colab_type": "code",
        "outputId": "8dbc00c2-e01a-4d4f-ae04-2fa2b046cff6",
        "colab": {
          "base_uri": "https://localhost:8080/",
          "height": 989
        }
      },
      "source": [
        "!apt-get install libgeos-3.5.0\n",
        "!apt-get install libgeos-dev\n",
        "!pip install https://github.com/matplotlib/basemap/archive/master.zip"
      ],
      "execution_count": 0,
      "outputs": [
        {
          "output_type": "stream",
          "text": [
            "Reading package lists... Done\n",
            "Building dependency tree       \n",
            "Reading state information... Done\n",
            "E: Unable to locate package libgeos-3.5.0\n",
            "E: Couldn't find any package by glob 'libgeos-3.5.0'\n",
            "E: Couldn't find any package by regex 'libgeos-3.5.0'\n",
            "Reading package lists... Done\n",
            "Building dependency tree       \n",
            "Reading state information... Done\n",
            "Suggested packages:\n",
            "  libgdal-doc\n",
            "The following NEW packages will be installed:\n",
            "  libgeos-dev\n",
            "0 upgraded, 1 newly installed, 0 to remove and 25 not upgraded.\n",
            "Need to get 73.1 kB of archives.\n",
            "After this operation, 486 kB of additional disk space will be used.\n",
            "Get:1 http://archive.ubuntu.com/ubuntu bionic/universe amd64 libgeos-dev amd64 3.6.2-1build2 [73.1 kB]\n",
            "Fetched 73.1 kB in 0s (178 kB/s)\n",
            "Selecting previously unselected package libgeos-dev.\n",
            "(Reading database ... 133872 files and directories currently installed.)\n",
            "Preparing to unpack .../libgeos-dev_3.6.2-1build2_amd64.deb ...\n",
            "Unpacking libgeos-dev (3.6.2-1build2) ...\n",
            "Setting up libgeos-dev (3.6.2-1build2) ...\n",
            "Processing triggers for man-db (2.8.3-2ubuntu0.1) ...\n",
            "Collecting https://github.com/matplotlib/basemap/archive/master.zip\n",
            "\u001b[?25l  Downloading https://github.com/matplotlib/basemap/archive/master.zip (133.1MB)\n",
            "\u001b[K     |████████████████████████████████| 133.1MB 29kB/s \n",
            "\u001b[?25hRequirement already satisfied: matplotlib!=3.0.1,>=1.0.0 in /usr/local/lib/python3.6/dist-packages (from basemap==1.2.1) (3.2.0)\n",
            "Requirement already satisfied: numpy>=1.2.1 in /usr/local/lib/python3.6/dist-packages (from basemap==1.2.1) (1.18.2)\n",
            "Collecting pyproj>=1.9.3\n",
            "\u001b[?25l  Downloading https://files.pythonhosted.org/packages/ce/37/705ee471f71130d4ceee41bbcb06f3b52175cb89273cbb5755ed5e6374e0/pyproj-2.6.0-cp36-cp36m-manylinux2010_x86_64.whl (10.4MB)\n",
            "\u001b[K     |████████████████████████████████| 10.4MB 2.9MB/s \n",
            "\u001b[?25hCollecting pyshp>=1.2.0\n",
            "\u001b[?25l  Downloading https://files.pythonhosted.org/packages/27/16/3bf15aa864fb77845fab8007eda22c2bd67bd6c1fd13496df452c8c43621/pyshp-2.1.0.tar.gz (215kB)\n",
            "\u001b[K     |████████████████████████████████| 225kB 59.1MB/s \n",
            "\u001b[?25hRequirement already satisfied: six in /usr/local/lib/python3.6/dist-packages (from basemap==1.2.1) (1.12.0)\n",
            "Requirement already satisfied: pyparsing!=2.0.4,!=2.1.2,!=2.1.6,>=2.0.1 in /usr/local/lib/python3.6/dist-packages (from matplotlib!=3.0.1,>=1.0.0->basemap==1.2.1) (2.4.6)\n",
            "Requirement already satisfied: python-dateutil>=2.1 in /usr/local/lib/python3.6/dist-packages (from matplotlib!=3.0.1,>=1.0.0->basemap==1.2.1) (2.8.1)\n",
            "Requirement already satisfied: cycler>=0.10 in /usr/local/lib/python3.6/dist-packages (from matplotlib!=3.0.1,>=1.0.0->basemap==1.2.1) (0.10.0)\n",
            "Requirement already satisfied: kiwisolver>=1.0.1 in /usr/local/lib/python3.6/dist-packages (from matplotlib!=3.0.1,>=1.0.0->basemap==1.2.1) (1.1.0)\n",
            "Requirement already satisfied: setuptools in /usr/local/lib/python3.6/dist-packages (from kiwisolver>=1.0.1->matplotlib!=3.0.1,>=1.0.0->basemap==1.2.1) (46.0.0)\n",
            "Building wheels for collected packages: basemap, pyshp\n",
            "  Building wheel for basemap (setup.py) ... \u001b[?25l\u001b[?25hdone\n",
            "  Created wheel for basemap: filename=basemap-1.2.1-cp36-cp36m-linux_x86_64.whl size=121756029 sha256=6b47eff9af395d53a38ecbd158bf8c2c5d5cbd6fc9f7ee0962585e12834e3adb\n",
            "  Stored in directory: /tmp/pip-ephem-wheel-cache-zgsj7q48/wheels/98/4a/fc/ce719b75d97e646645c225f3332b1b217536100314922e9572\n",
            "  Building wheel for pyshp (setup.py) ... \u001b[?25l\u001b[?25hdone\n",
            "  Created wheel for pyshp: filename=pyshp-2.1.0-cp36-none-any.whl size=32609 sha256=ea9a35606f3645213bb21d94a11270dec8fb8d0cfa4f7e470c1c0e2b3c3f7055\n",
            "  Stored in directory: /root/.cache/pip/wheels/a6/0c/de/321b5192ad416b328975a2f0385f72c64db4656501eba7cc1a\n",
            "Successfully built basemap pyshp\n",
            "Installing collected packages: pyproj, pyshp, basemap\n",
            "Successfully installed basemap-1.2.1 pyproj-2.6.0 pyshp-2.1.0\n"
          ],
          "name": "stdout"
        },
        {
          "output_type": "display_data",
          "data": {
            "application/vnd.colab-display-data+json": {
              "pip_warning": {
                "packages": [
                  "mpl_toolkits"
                ]
              }
            }
          },
          "metadata": {
            "tags": []
          }
        }
      ]
    },
    {
      "cell_type": "code",
      "metadata": {
        "id": "bB4t4trfe6KZ",
        "colab_type": "code",
        "outputId": "a77afffe-35d9-4da5-8c46-8a6eb19a1dbb",
        "colab": {
          "base_uri": "https://localhost:8080/",
          "height": 258
        }
      },
      "source": [
        "!pip install pyproj==1.9.6"
      ],
      "execution_count": 0,
      "outputs": [
        {
          "output_type": "stream",
          "text": [
            "Collecting pyproj==1.9.6\n",
            "\u001b[?25l  Downloading https://files.pythonhosted.org/packages/26/8c/1da0580f334718e04f8bbf74f0515a7fb8185ff96b2560ce080c11aa145b/pyproj-1.9.6.tar.gz (2.8MB)\n",
            "\u001b[K     |████████████████████████████████| 2.8MB 2.8MB/s \n",
            "\u001b[?25hBuilding wheels for collected packages: pyproj\n",
            "  Building wheel for pyproj (setup.py) ... \u001b[?25l\u001b[?25hdone\n",
            "  Created wheel for pyproj: filename=pyproj-1.9.6-cp36-cp36m-linux_x86_64.whl size=3702142 sha256=cb289a7a998a18080d257f0e2919e695aa3ceb32c8bc1c883b1b7f0c801b4002\n",
            "  Stored in directory: /root/.cache/pip/wheels/02/cd/b1/a2d6430f74c7a778a43d62f78bec109ca69c732dc9b929142a\n",
            "Successfully built pyproj\n",
            "Installing collected packages: pyproj\n",
            "  Found existing installation: pyproj 2.6.0\n",
            "    Uninstalling pyproj-2.6.0:\n",
            "      Successfully uninstalled pyproj-2.6.0\n",
            "Successfully installed pyproj-1.9.6\n"
          ],
          "name": "stdout"
        }
      ]
    },
    {
      "cell_type": "code",
      "metadata": {
        "id": "DiHMk-CBd3AE",
        "colab_type": "code",
        "outputId": "d0a1cb18-2229-47bb-eed0-2a20e629410f",
        "colab": {
          "base_uri": "https://localhost:8080/",
          "height": 630
        }
      },
      "source": [
        "from mpl_toolkits.basemap import Basemap\n",
        "\n",
        "\n",
        "# miller projection\n",
        "m = Basemap(projection='mill',llcrnrlat=-90, urcrnrlat=90, llcrnrlon=-180, urcrnrlon=180, resolution='c')\n",
        "plt.figure(figsize=(20,10))\n",
        "\n",
        "# plot coastlines, draw label meridians and parallels.\n",
        "m.drawcoastlines()\n",
        "m.drawparallels(np.arange(-90,90,10),labels=[True, False, False, False])\n",
        "m.drawmeridians(np.arange(-180,-180,30),labels=[0,0,0,1])\n",
        "\n",
        "lon=covid_deaths_data.iloc[:,3:4].values\n",
        "lat=covid_deaths_data.iloc[:,2:3].values\n",
        "size=covid_deaths_data.iloc[:,-1:].values\n",
        "\n",
        "m.scatter(lon,lat,latlon=True, s=np.log(size)*50, c='red',marker='o')\n",
        "\n",
        "plt.show()"
      ],
      "execution_count": 101,
      "outputs": [
        {
          "output_type": "stream",
          "text": [
            "/usr/local/lib/python3.6/dist-packages/ipykernel_launcher.py:17: RuntimeWarning: divide by zero encountered in log\n",
            "/usr/local/lib/python3.6/dist-packages/matplotlib/collections.py:886: RuntimeWarning: invalid value encountered in sqrt\n",
            "  scale = np.sqrt(self._sizes) * dpi / 72.0 * self._factor\n"
          ],
          "name": "stderr"
        },
        {
          "output_type": "display_data",
          "data": {
            "image/png": "[encoded data removed]",
            "text/plain": [
              "<Figure size 1440x720 with 1 Axes>"
            ]
          },
          "metadata": {
            "tags": []
          }
        }
      ]
    },
    {
      "cell_type": "code",
      "metadata": {
        "id": "6WKEqYKVfcDC",
        "colab_type": "code",
        "colab": {}
      },
      "source": [
        "#### By visually examining, answer in which countries, the points scatter the most?\n",
        "\n",
        "\n",
        "#### China"
      ],
      "execution_count": 0,
      "outputs": []
    },
    {
      "cell_type": "markdown",
      "metadata": {
        "id": "uvqsDu8Wd3AI",
        "colab_type": "text"
      },
      "source": [
        "#### Question # 06\n",
        "\n",
        "For this question, we will use the `COVID19_open_line_list.csv` file. \n",
        "\n",
        "1. Read the data file and examine the features\n",
        "2. We will be working with these feature columns: `age, sex, symptoms, city, province, lives_in_Wuhan, and travel_history_location`.\n",
        "3. Since these are textual values, you need to encode them to integers (maintain an encoding dictionary as well).\n",
        "    * For example in `symptoms` column, you might assign fever -> 1, pneumonia -> 2, headache -> 3, etc.\n",
        "    * There are several multiple symptoms as well for a single row, for those you can just sum the assigned integers. For example a row might list these symptons: fever, headache, since fever -> 1 and headache -> 3, you can replace fever, headache with 1+3 = 4 and so on. Start the integer encoding from 1 so that when summing the numbers, you donot get the same number back (e.g. 0+3 = 3).\n",
        "    * You can do the same for other columns, just to avoid ambiguity, you can encode each column differently. \n",
        "    * For example, for the `symptoms` column, you starting assigning numbers from 1, let's say there were 4 symptoms, so the numbers would range from 1 - 4. For the next column, you can use numbers from 5 and so on. You are free to encode as you want. \n",
        "    * For ease, you can also use sklearn's LabelEncoder.\n",
        "4. Once you have integer coded the entire dataset (7 columns), you can compute the correlation between city (let city column be `y` for this case) and every other column.\n",
        "5. Pick the most 2 correlated fields (using the absolute value of correlations) and make `X`.\n",
        "6. Use MinMaxScaler to scale X. Note that this will output a `np.array`. Make it a DataFrame again and rename the columns appropriately.\n",
        "7. Print the head (5 rows) and tail (5 rows) of this dataframe."
      ]
    },
    {
      "cell_type": "code",
      "metadata": {
        "id": "6Db9MQojd3AJ",
        "colab_type": "code",
        "outputId": "0800397a-17bd-4558-b17b-ea2097249354",
        "colab": {
          "base_uri": "https://localhost:8080/",
          "height": 204
        }
      },
      "source": [
        "covid_open_list=pd.read_csv('COVID19_open_line_list.csv')\n",
        "\n",
        "columns=['age', 'sex', 'symptoms', 'city', 'province', 'lives_in_Wuhan','travel_history_location']\n",
        "covid_open_list=covid_open_list.filter(columns)\n",
        "\n",
        "covid_open_list.head()"
      ],
      "execution_count": 103,
      "outputs": [
        {
          "output_type": "execute_result",
          "data": {
            "text/html": [
              "<div>\n",
              "<style scoped>\n",
              "    .dataframe tbody tr th:only-of-type {\n",
              "        vertical-align: middle;\n",
              "    }\n",
              "\n",
              "    .dataframe tbody tr th {\n",
              "        vertical-align: top;\n",
              "    }\n",
              "\n",
              "    .dataframe thead th {\n",
              "        text-align: right;\n",
              "    }\n",
              "</style>\n",
              "<table border=\"1\" class=\"dataframe\">\n",
              "  <thead>\n",
              "    <tr style=\"text-align: right;\">\n",
              "      <th></th>\n",
              "      <th>age</th>\n",
              "      <th>sex</th>\n",
              "      <th>symptoms</th>\n",
              "      <th>city</th>\n",
              "      <th>province</th>\n",
              "      <th>lives_in_Wuhan</th>\n",
              "      <th>travel_history_location</th>\n",
              "    </tr>\n",
              "  </thead>\n",
              "  <tbody>\n",
              "    <tr>\n",
              "      <th>0</th>\n",
              "      <td>30</td>\n",
              "      <td>male</td>\n",
              "      <td>NaN</td>\n",
              "      <td>Chaohu City, Hefei City</td>\n",
              "      <td>Anhui</td>\n",
              "      <td>yes</td>\n",
              "      <td>Wuhan</td>\n",
              "    </tr>\n",
              "    <tr>\n",
              "      <th>1</th>\n",
              "      <td>47</td>\n",
              "      <td>male</td>\n",
              "      <td>NaN</td>\n",
              "      <td>Baohe District, Hefei City</td>\n",
              "      <td>Anhui</td>\n",
              "      <td>no</td>\n",
              "      <td>Luzhou Hunan, via Wuhan</td>\n",
              "    </tr>\n",
              "    <tr>\n",
              "      <th>2</th>\n",
              "      <td>49</td>\n",
              "      <td>male</td>\n",
              "      <td>NaN</td>\n",
              "      <td>High-Tech Zone, Hefei City</td>\n",
              "      <td>Anhui</td>\n",
              "      <td>no</td>\n",
              "      <td>Yinzhou Hunan, via Wuhan</td>\n",
              "    </tr>\n",
              "    <tr>\n",
              "      <th>3</th>\n",
              "      <td>47</td>\n",
              "      <td>female</td>\n",
              "      <td>NaN</td>\n",
              "      <td>High-Tech Zone, Hefei City</td>\n",
              "      <td>Anhui</td>\n",
              "      <td>no</td>\n",
              "      <td>NaN</td>\n",
              "    </tr>\n",
              "    <tr>\n",
              "      <th>4</th>\n",
              "      <td>50</td>\n",
              "      <td>female</td>\n",
              "      <td>NaN</td>\n",
              "      <td>Feidong County, Hefei City</td>\n",
              "      <td>Anhui</td>\n",
              "      <td>no</td>\n",
              "      <td>Wuhan</td>\n",
              "    </tr>\n",
              "  </tbody>\n",
              "</table>\n",
              "</div>"
            ],
            "text/plain": [
              "  age     sex symptoms  ... province lives_in_Wuhan   travel_history_location\n",
              "0  30    male      NaN  ...    Anhui            yes                     Wuhan\n",
              "1  47    male      NaN  ...    Anhui             no   Luzhou Hunan, via Wuhan\n",
              "2  49    male      NaN  ...    Anhui             no  Yinzhou Hunan, via Wuhan\n",
              "3  47  female      NaN  ...    Anhui             no                       NaN\n",
              "4  50  female      NaN  ...    Anhui             no                     Wuhan\n",
              "\n",
              "[5 rows x 7 columns]"
            ]
          },
          "metadata": {
            "tags": []
          },
          "execution_count": 103
        }
      ]
    },
    {
      "cell_type": "code",
      "metadata": {
        "id": "OayjDToMr1b8",
        "colab_type": "code",
        "outputId": "cbd833d8-3e7f-49d4-e39c-7842fdc0b8ef",
        "colab": {
          "base_uri": "https://localhost:8080/",
          "height": 1000
        }
      },
      "source": [
        "covid_open_list.city.unique()"
      ],
      "execution_count": 104,
      "outputs": [
        {
          "output_type": "execute_result",
          "data": {
            "text/plain": [
              "array(['Chaohu City, Hefei City', 'Baohe District, Hefei City',\n",
              "       'High-Tech Zone, Hefei City', 'Feidong County, Hefei City',\n",
              "       \"Lu'an City\", 'Fuyang City', 'Huaibei City', 'Huainan City',\n",
              "       'Hefei City', 'Anqing City', 'Chizhou City', 'Bengbu City',\n",
              "       'Changping District', 'Daxing District', 'Fengtai District',\n",
              "       'Haidian District', 'Shijingshan District', 'Tongzhou District',\n",
              "       'Xicheng District', nan, 'Chaoyang District', 'Changshou District',\n",
              "       'Wanzhou District', 'Wushan County', 'Fuling District',\n",
              "       'Yongchuan District', 'Dadukou District', 'Jiulongpo District',\n",
              "       'Yubei District', 'Kaizhou District', 'Zhongxian County',\n",
              "       'Yunyang County', 'Fengjie County', 'Wuxi County',\n",
              "       'Xiushan County', 'Liangjiang New District', 'Dianjiang County',\n",
              "       'Fuzhou City', 'Ningde City', 'Quanzhou City', 'Xiamen City',\n",
              "       'Lanzhou City', 'Baiyin City', 'Foshan City', 'Guangzhou City',\n",
              "       'Shaoguan City', 'Shenzhen City', 'Zhanjiang City',\n",
              "       'Zhaoqing City', 'Zhongshan City', 'Zhuhai City', 'Yangjiang City',\n",
              "       'Qingyuan City', 'Huizhou City', 'Beihai City', 'Liuzhou City',\n",
              "       'Wuzhou City', 'Guilin City', 'Baise City', 'Hechi City',\n",
              "       'Fangchenggang City', 'Yulin City',\n",
              "       'Guiding County, Qiannan Prefecture', 'Guiyang City',\n",
              "       'Tongren City', 'Haikou City', 'Wanning City', 'Shijiazhuang City',\n",
              "       'Cangzhou City', 'Harbin City', 'Mudanjiang City', 'Daqing City',\n",
              "       'Suihua City', 'Zhengzhou City', 'Sanmenxia City', 'Luoyang City',\n",
              "       'Xinxiang City', 'Zhoukou City', 'Hong Kong', 'Changsha City',\n",
              "       'Hecheng District, Huaihua City', 'Yongzhou City', 'Chenzhou City',\n",
              "       'Zhuzhou City', 'Xiangtan City', 'Yueyang City', 'Loudi City',\n",
              "       'Manzhouli City, Hulunbuir City', 'Suzhou City', 'Nanjing City',\n",
              "       'Lianyungang City', 'Yangzhou City', 'Wuxi City', 'Nantong City',\n",
              "       'Dongxiang County, Fuzhou City',\n",
              "       'Xiangdong District, Pingxiang City', 'Nanchang City',\n",
              "       'Jiujiang City', 'Xinyu City', \"Ji'an City\", 'Ganzhou City',\n",
              "       'Shangrao City', 'Yichun City', 'Jingdezhen City',\n",
              "       'Changchun City', 'Songyuan City', 'Jilin City', 'Dalian City',\n",
              "       'Shenyang City', 'Chaoyang City', 'Border Checkpoint',\n",
              "       'Landmark Hotel', 'Yinchuan City', 'Zhongwei City', \"Xi'an City\",\n",
              "       'Xianyang City', \"Yan'an City\", 'Ankang City', 'Weihai City',\n",
              "       'Linyi City', 'Qingdao City', 'Weifang City', 'Rizhao City',\n",
              "       'Jinan City', 'Yantai City', 'Jining City', 'Taiyuan City',\n",
              "       'Chengdu City', 'Dazhou City', \"Guang'an City\", 'Mianyang City',\n",
              "       'Tianjin City', 'Urumqi City', 'Kunming City',\n",
              "       'Xishuangbanna Prefecture', 'Lijiang City', 'Hangzhou City',\n",
              "       'Jinhua City', 'Quzhou City', 'Ningbo City', 'Shaoxing City',\n",
              "       'Taizhou City', 'Wenzhou City', 'Zhoushan City', 'Jiaxing City',\n",
              "       'Shizhu County', 'Huaihua City', 'Lujiang County, Hefei City',\n",
              "       'Yaohai District, Hefei City', 'Bozhou City',\n",
              "       'Wangjiang County, Anqing City', 'Tongcheng City, Anqing City',\n",
              "       'Qianshan City, Anqing City', 'Nanyang City', 'Changzhou City',\n",
              "       'Sanya City', 'Dandong City', 'Baoding City', 'Datong City',\n",
              "       'Yuncheng City', 'Changzhi City', \"Chang'an District, Xi'an City\",\n",
              "       \"Lianhu District, Xi'an City\", 'Luoping County, Qujing City',\n",
              "       'Yuxi City', 'Mengzi City, Honghe Prefecture', 'Dali Prefecture',\n",
              "       'Qianxinan Prefecture', 'Xilingol League City', 'Xining City',\n",
              "       'Lingshui County', 'Lingao County', \"Ya'an City\", 'Deyang City',\n",
              "       'Suining City', 'Bordeaux', 'Paris', 'Narita Airport',\n",
              "       'Kuala Lumpur', 'Kathmandu', 'Singapore General Hospital',\n",
              "       'National Centre for Infectious Diseases', 'Incheon Airport',\n",
              "       'Gimpo Airport', 'Taoyuan International Airport', 'Bangkok',\n",
              "       'Chicago', 'Snohomish County', 'Nha Trang', 'Sydney', 'Melbourne',\n",
              "       'Orange County', 'Hua Hin District', 'Sengkang General Hospital',\n",
              "       'Seoul', 'Toronto', 'Dongguan City', 'Shantou City',\n",
              "       'Jieyang City', 'Meizhou City', 'Lishui City', 'Huzhou City',\n",
              "       'Luohe City', 'Zhumadian City', 'Pingdingshan City', 'Anyang City',\n",
              "       'Hechuan District', 'Bishan District', 'Liangping District',\n",
              "       'Chengkou County', 'Fengdu County', 'Jiangbei District',\n",
              "       'Dazu District', 'Tongliang District', 'Yiyang City',\n",
              "       'Hengyang City', 'Changde City', 'Shaoyang City',\n",
              "       'Xiangxi Prefecture', 'Dongcheng District', \"Ma'anshan City\",\n",
              "       'Tongling City', 'Xuancheng City', 'Chuzhou City', 'Wuhu City',\n",
              "       'Huangshan City', 'Dezhou City', 'Liaocheng City', 'Binzhou City',\n",
              "       'Heze City', 'Zibo City', 'Nanning City', 'Pingxiang City',\n",
              "       'Putian City', 'Yancheng City', 'Suqian City', \"Huai'an City\",\n",
              "       'Zhenjiang City', 'Chengmai County', 'Tongchuan City',\n",
              "       'Shangluo City', 'Hanzhong City', 'Jinzhou City', 'Baoshan City',\n",
              "       'Zhaotong City', 'Dehong Prefecture', 'Qiqihar City',\n",
              "       'Jiamusi City', 'Chengde City', 'Handan City', 'Jinzhong City',\n",
              "       'Yangquan City', 'Zhangye City', 'Linxia Prefecture',\n",
              "       'Hulunbuir City', 'Chifeng City', 'Ordos City', 'Guyuan City',\n",
              "       'Ili Prefecture', 'Los Angeles', 'Tempe, Maricopa County',\n",
              "       'Linfen City', 'Luliang City', 'Shuozhou City',\n",
              "       'Sihanoukville City', 'Shanwei City', 'Shangqiu City',\n",
              "       'Kaifeng City', 'Hebi City', 'Xuchang City', 'Banan District',\n",
              "       'Dadukou\\xa0District', 'Jiangjin District', 'Qijiang District',\n",
              "       'Zaozhuang City', 'Zigong City', 'Luzhou City', 'Nanchong City',\n",
              "       'Neijiang City', 'Ganzi Prefecture', 'Leshan City',\n",
              "       'Liangshan Prefecture', 'Meishan City', 'Yibin City',\n",
              "       'Sanming City', 'Zhangzhou City', 'Nanping City', 'Xuzhou City',\n",
              "       'Danzhou City', 'Tieling City', 'Huludao City', 'Langfang City',\n",
              "       'Xingtai City', 'Chengguan District, Lanzhou City',\n",
              "       'Lixian County, Longnan City', 'Baotou City',\n",
              "       'Ulanhot City, Hinggan City', 'Liupanshui City',\n",
              "       'Qiannan Prefecture', 'Starnberg', 'Pyeongtaek', 'Yingtan City',\n",
              "       'Jiaozuo City', \"Dongping County, Tai'an City\",\n",
              "       'Shizhong District, Jinan City', 'Leling City, Dezhou City',\n",
              "       'Ningjin County, Dezhou City',\n",
              "       'Dongchangfu District, Liaocheng City',\n",
              "       'Yicheng District, Zaozhuang City',\n",
              "       'Huancui District, Weihai City', 'Donggang District, Rizhao City',\n",
              "       'Hedong District, Linyi City', 'Huimin County, Binzhou City',\n",
              "       \"Nan'an District\", 'Qianjiang District', 'Jinchang City',\n",
              "       'Tianshui City', 'Hengshui City', 'Tangshan City', 'Turpan City',\n",
              "       'Shihezi City', 'Kuytun City, Ili Prefecture', 'Qitaihe City',\n",
              "       'Qujing City', 'Honghe Prefecture', 'Baoji City', 'Weinan City',\n",
              "       'Fengze District, Quanzhou City',\n",
              "       'Licheng District, Quanzhou City', \"Nan'an City, Quanzhou City\",\n",
              "       'Sha County, Sanming City', 'Ninghua County, Sanming City',\n",
              "       \"Yong'an City, Sanming City\", 'Licheng District, Putian City',\n",
              "       'Pucheng County, Nanping City', 'Yongding District, Longyan City',\n",
              "       'Lianjiang County, Fuzhou City', 'Changle District, Fuzhou City',\n",
              "       'Fuqing City, Fuzhou City', 'Dongshan County, Zhangzhou City',\n",
              "       'Qionghai City', 'Dongfang City', 'Qiongzhong County',\n",
              "       'Xincheng District, Hohhot City', 'Linxi County, Chifeng City',\n",
              "       'Shuangyashan City', 'Heyuan City', 'Tongliao City', 'Siping City',\n",
              "       'Gongzhuling City, Siping City', 'Benxi City', 'Panjin City',\n",
              "       'Yingkou City', 'Liaoyang City', 'Wuzhong City', 'Gold Coast',\n",
              "       'Susong County, Anqing City', 'Maoming City', 'Jiangmen City',\n",
              "       'Zhangjiakou City', 'Jixi City', 'Bayannur City', 'Tonghua City',\n",
              "       \"Tai'an City\", 'Bazhong City', 'Guangyuan City', 'Lorong Lew Lian',\n",
              "       'Pasir Ris Grove', 'Vancouver', 'Ivalo Village',\n",
              "       'Shengzhou City, Shaoxing City', 'Zhangjiajie City',\n",
              "       'Changyuan City, Xinxiang City', 'Huaxian County, Anyang City',\n",
              "       'Shushan District, Hefei City', 'Manila', 'Haneda Airport',\n",
              "       'Lhasa City', 'Thanh Hoa', 'Yuzhong District',\n",
              "       'Dalad Banner, Ordos City', 'Wuyuan County, Bayannur City',\n",
              "       'Qingshui County, Tianshui City', 'Tongwei County, Dingxi City',\n",
              "       'Zunyi City', 'Kaili City, Qiandongnan Prefecture', 'Bijie City',\n",
              "       \"Pu'er City\", 'Rome', 'Newcastle', 'Puyang City',\n",
              "       'Yongcheng City, Shangqiu City', 'Wulong District',\n",
              "       'Rongchang District', 'Siming District, Xiamen City',\n",
              "       'Longhai City, Zhangzhou City', 'Chaozhou City',\n",
              "       'Qiandongnan Prefecture', 'Ledong County', 'Traunstein',\n",
              "       'Jurong East', 'Changi Airport', 'Nathan Road', 'Jonkoping',\n",
              "       'Shapingba District', 'La Gomera', 'Changfeng County, Hefei City',\n",
              "       \"Jin'an District, Fuzhou City\",\n",
              "       'Xiangcheng District, Zhangzhou City',\n",
              "       'Yongchun County, Quanzhou City', 'Jinjiang City, Quanzhou City',\n",
              "       'Chengxiang District, Putian City',\n",
              "       'Hanjiang District, Putian City', 'Yanping District, Nanping City',\n",
              "       'Shunchang County, Nanping City', 'Songxi County, Nanping City',\n",
              "       'Wuyishan City, Nanping City', 'Honggu District, Lanzhou City',\n",
              "       'Weiyuan County, Dingxi City', 'Gannan Prefecture',\n",
              "       'Qinhuangdao City', 'Tumed Right Banner, Baotou City',\n",
              "       'Jingyue District, Nanguan District, Changchun City',\n",
              "       'Anshan City', 'Fuxin City', 'Hongta District, Yuxi City',\n",
              "       'Munich', 'Fuerstenfeldbruck', 'Germersheim', 'Ho Chi Minh City',\n",
              "       'Hotel Ton Dan Street, Nha Trang', 'London', 'Permai Hospital',\n",
              "       'Santa Clara County', 'Gunsan',\n",
              "       'Seoul National University, Bundang Hospital',\n",
              "       'National Medical Center', 'National Guard Capital Hospital',\n",
              "       'Boston',\n",
              "       'Park Royal Collection Pickering and Oasia Hotel Downtown',\n",
              "       'Village Hotel Sentosa (10 Artillery Avenue)', 'New Territories',\n",
              "       'Beijing', 'Tongnan District', 'Qishan County, Baoji City',\n",
              "       'Wangyi District, Tongchuan City', 'Wugong County, Xianyang City',\n",
              "       'Hanbin District, Ankang City', \"Beilin District, Xi'an City\",\n",
              "       \"Xincheng District, Xi'an City\", \"Gaoling County, Xi'an City\",\n",
              "       \"Baqiao District, Xi'an City\", 'Xigu District, Lanzhou City',\n",
              "       'Ningxian County, Qingyang City', 'Linxia City, Linxia Prefecture',\n",
              "       'Maiji District, Tianshui City', 'Qinzhou District, Tianshui City',\n",
              "       'Binh Xuyen District', 'Block 1, Site 11, Whampao Garden',\n",
              "       'Chaoyang District, Changchun City', 'Daozhen County, Zunyi City',\n",
              "       'Fengman District, Jilin City', 'Guigang City', 'Hezhou City',\n",
              "       'Jiangkou County, Tongren City', 'Jiyuan City',\n",
              "       'Kanjangad District Hospital', 'Luyuan District, Changchun City',\n",
              "       'Nanming District, Guiyang City', 'Dengzhou City, Nanyang City',\n",
              "       'Ruzhou City, Pingdingshan City', 'San Benito County',\n",
              "       'Tiexi District, Siping City', 'Wanshan District, Tongren City',\n",
              "       'Xinyang City', 'Luyi County, Zhoukou City',\n",
              "       'Jimei District, Xiamen City', 'Xianyou County, Putian City',\n",
              "       'Xiapu County, Ningde City', 'Zhouning County, Ningde City',\n",
              "       'Menyuan County, Haibei Prefecture',\n",
              "       'Yuquan District, Hohhot City', 'Saihan District, Hohhot City',\n",
              "       'Kundoulun District, Baotou City', 'Yakeshi City, Hulunbuir City',\n",
              "       'Hinggan City', 'Songshan District, Chifeng City',\n",
              "       'Xilinhot City, Xilingol League City',\n",
              "       'Erenhot City, Xilingol League City',\n",
              "       'Dorbod Banner, Ulanqab City', 'Huade County, Ulanqab City',\n",
              "       'Dongsheng District, Ordos City', 'Otog Front Banner, Ordos City',\n",
              "       'Linhe District, Bayannur City', 'Wuhai City',\n",
              "       'Chonnam National University Hospital',\n",
              "       'Minh Quang commune, Tam Dao District', 'Hougang Street 61',\n",
              "       'Kwun Tong', 'Son Loi commune, Binh Xuyen District',\n",
              "       'Neder-Over-Heembeek, Brussels',\n",
              "       'High Tech Zone, Weibin District, Baoji City',\n",
              "       'Hezhang County, Bijie City', 'Dafang County, Bijie City',\n",
              "       'Danfeng County, Shangluo City', 'Molidawa Banner, Hulunbuir City',\n",
              "       'Tacheng Prefecture', \"Weiyang District, Xi'an City\",\n",
              "       'Haibowan District, Wuhai City', \"Hu County, Xi'an City\",\n",
              "       'Yangling District, Xianyang City', \"Yanta District, Xi'an City\",\n",
              "       'Zhenba County, Hanzhong City', 'To Kwa Wan', 'Anshun City',\n",
              "       'Baihe County, Ankang City', 'Baodi District', 'Baoshan District',\n",
              "       'Baoting County', 'Bayingolin Prefecture', 'Cebu City', 'Kowloon',\n",
              "       'Changji Prefecture', 'Qiziwan, Changjiang County',\n",
              "       'Changjiang County', 'Changning District',\n",
              "       'Changqing District, Jinan City', 'Cheng District, Yangquan City',\n",
              "       'Chongzhi Road, Chaoyang District, Changchun City',\n",
              "       'Chuxiong Prefecture', 'Dingbian County, Yulin City',\n",
              "       'Fengxian District',\n",
              "       'Gaoxing District (High Tech Zone), Jiulongpo District',\n",
              "       'Yanji City, Yanbian Prefecture', 'Guri City',\n",
              "       'Gushi County, Xinyang City', 'Feixi County, Hefei City',\n",
              "       'Xinzhan District, Hefei City', 'Luyang District, Hefei City',\n",
              "       'Hohhot City', 'Hongkou District', 'Jiading District',\n",
              "       'Jiangle County, Sanming City', 'Qinshui County, Jincheng City',\n",
              "       'Jiang County, Yuncheng City', \"Jing'an District\",\n",
              "       'Jiutai District, Changchun City', 'Juye County, Heze City',\n",
              "       'KK Women’s and Children’s Hospital',\n",
              "       'Kuiwen District, Weifang City', 'Laibin City',\n",
              "       'Licang District, Qingdao City', 'Lixia District, Jinan City',\n",
              "       'Youyang County', 'Longshan District, Liaoyuan City',\n",
              "       'Longxi County, Dingxi City', 'Madison', 'Minhang District',\n",
              "       'Panzhihua City', 'Pingcheng District, Datong City',\n",
              "       'Pingliang City', 'Pinglu County, Yuncheng City',\n",
              "       'Pingyao County, Jinzhong City', 'Pudong District',\n",
              "       'Qingpu District', 'Qinzhou City', 'Qufu City, Jining City',\n",
              "       'Shan County, Heze City', 'Shibei District, Qingdao City',\n",
              "       'Songjiang District', \"Taishan District, Tai'an City\",\n",
              "       'Tengzhou City, Zaozhuang City', 'Tunliu District, Changzhi City',\n",
              "       'Baimajing Town, Danzhou City', 'Wenchang City',\n",
              "       'Wenshang County, Jining City', 'Wujiaqu City', 'Ulanqab City',\n",
              "       'Xiaoyi City, Luliang City', 'Xincai County, Zhumadian City',\n",
              "       \"Xintai City, Tai'an City\", 'Xiuyu District, Putian City',\n",
              "       \"Xixian New District, Xi'an City\", 'Xuhui District',\n",
              "       'Yangcheng County, Jincheng City', \"Yanliang District, Xi'an City\",\n",
              "       'Luzhou District, Changzhi City', 'Yishui County, Linyi City',\n",
              "       'Yokohama Port', 'Yu County, Yangquan City', 'Lam Tin',\n",
              "       'Zezhou County, Jincheng City', 'Zhangdian District, Zibo City',\n",
              "       'Dongfeng County, Liaoyuan City',\n",
              "       'Zhongshan District, Liupanshui City', 'ROK Capital Hospital',\n",
              "       'Seoul National University Hospital',\n",
              "       'Gwangju 21st Century Hospital', 'Yanbian Prefecture',\n",
              "       'Changi General Hospital', 'Longyan City', 'Nagoya City',\n",
              "       'Owariasahi City', 'Miyun District', 'San Diego County',\n",
              "       'Gulou District, Fuzhou City', 'Zhenghe County, Nanping City',\n",
              "       'Gutian County, Ningde City', 'Cangshan District, Fuzhou City',\n",
              "       \"Hui'an County, Quanzhou City\", 'Jianyang District, Nanping City',\n",
              "       'Wuping County, Longyan City', 'Minqing County, Fuzhou City',\n",
              "       'Baiyin District, Baiyin City', 'Huating County, Pingliang City',\n",
              "       'Zhuanglang County, Pingliang City',\n",
              "       'Qingcheng County, Qingyang City', 'Hezuo City, Gannan Prefecture',\n",
              "       'Jingyuan County, Baiyin City', 'Qilihe District, Lanzhou City',\n",
              "       'Tianzhu County, Qiandongnan Prefecture',\n",
              "       'Huaxi District, Guiyang City',\n",
              "       'Siduju, Siduzhen, Huichuan District, Zunyi City', 'Seongnam-si',\n",
              "       \"Ding'an County\", 'Heihe City', 'Tsing Yi', 'Quarry Bay',\n",
              "       'Wan Chai', 'Shek O', 'Shek Lei', 'Sha Tin',\n",
              "       'Yueyanglou District, Yueyang City', 'Linxiang City, Yueyang City',\n",
              "       'Yunxi District, Yueyang City',\n",
              "       'Duolun County, Xilingol League City',\n",
              "       'Wengniute Banner, Chifeng City', 'Zhenlai County, Baicheng City',\n",
              "       'Meihekou City, Tonghua City', 'Liaoyuan City',\n",
              "       'Pixel Park, Economic Development Zone, Jinkai District, Changchun City',\n",
              "       'Dongliao County, Liaoyuan City', 'Shuangliao City, Siping City',\n",
              "       'Dashun Community, Dongling South Street, Nanguan District, Changchun City',\n",
              "       'Aegean Bay, Oriental Plaza, Economic Development Zone, Changchun',\n",
              "       'Sunac City, Shangcheng, Changchun City', 'Yokohama', 'Mallorca',\n",
              "       'Tongxin County, Wuzhong City', 'Bamrasnaradura Hospital',\n",
              "       'Haibei Prefecture', 'Luzzara, Reggio Emilia',\n",
              "       'Ziyang County, Ankang City', 'Yangpu District',\n",
              "       'Wanbailin District, Taiyuan City', 'Ji County, Linfen City',\n",
              "       'JBSA-Lackland', 'Ota-ku', 'Thien Ke commune, Binh Xuyen District',\n",
              "       'Quat Luu commune, Binh Xuyen District',\n",
              "       'Yuasa (Saiseikai Arida Hospital), Arida District', 'Yuasa-cho',\n",
              "       'Wenshan Zhuang and Miao Autonomous Prefecture',\n",
              "       'Gejiu City, Honghe Prefecture', 'Tengchong City, Baoshan City',\n",
              "       'Buangkok Green', 'Savoie', 'Khoo Teck Puat Hospital',\n",
              "       'National University Hospital', 'Ang Mo Kio Avenue 3',\n",
              "       'Jurong West Street 64', 'Tanjong Pagar Road',\n",
              "       'Potong Pasir Avenue 3', 'Jurong West Street 81',\n",
              "       'Chosun University Hospital', 'Hospital Sultanah Bahiyah',\n",
              "       'Mei Hwan Drive', 'Fernvale Road', 'Woodlands Crescent', 'Lyon',\n",
              "       'Lorong 8 Toa Payoh', 'Mei Ling Street', 'Abu Dhabi',\n",
              "       'Sagamihara Chuo Hospital', 'Yokohama port', 'Tehran', 'Qom',\n",
              "       'Rasht', 'Arak', 'Codogno', 'Vo Euganeo', 'Cremona',\n",
              "       'Kumamoto City', 'Beirut', 'Sacramento County', 'Fraser Valley',\n",
              "       'Katsuura', 'Nakafurano', 'Chitose', 'Sagamihara City',\n",
              "       'Chiba City', 'Wakayama City', 'Hakodate City', 'Tomakomai City',\n",
              "       'Nemuro City', 'Kitami City', 'Asahikawa City', 'Ebetsu',\n",
              "       'Shiriuchi', 'Hougang Street 91', 'Sesto Cremonese',\n",
              "       'Pizzighettone', 'Soresina', 'Sesto San Giovanni',\n",
              "       'Pieve Porto Morone', 'Mirano', 'San Raffaelle', 'Milan', 'Torino',\n",
              "       'Tin Hau', 'New Chitose Airport', 'Humboldt County',\n",
              "       'Shilifeng Prison', 'Sapporo City', 'Biei Town', 'Kushiro City',\n",
              "       'Iburi', 'Ishikari', 'Jincheng City', \"Ji'an City, Tonghua City\",\n",
              "       'Haeundae', 'Dingxi City', 'Yongdeng County, Lanzhou City',\n",
              "       'Ng Teng Fong General Hospital', 'Helsinki, Uusimaa', 'Skopje',\n",
              "       'Seville', 'Tenerife', 'Madrid', 'Villarreal', 'Barcelona',\n",
              "       'Interior Health Region', 'Islamabad', 'Karachi', 'Thessaloniki',\n",
              "       'Goeppingen', 'Annecy', 'Amiens', 'Strasbourg', 'Innsbruck',\n",
              "       'Sao Paulo', 'Dusseldorf University Hospital', 'Prigoria',\n",
              "       'Tromso', 'Hakodate', 'Shinhidaka', 'Atsugi', 'Okhotsk',\n",
              "       'Takikawa', 'Tokachi', 'Hiyama', 'Yakumo', 'Kikonai', 'Baghdad',\n",
              "       'Valle Gran Rey, La Gomera', 'Rijeka', 'Zagreb',\n",
              "       'Bahrain International Airport', 'Rajavithi Hospital', 'Lagos',\n",
              "       'Alassio', 'La Spezia', 'Torricella', \"Castiglione d'Adda\",\n",
              "       'Soresina, Cremona', 'San Rocco al Porto, Lodi',\n",
              "       'Seriate, Bergamo', 'Grosio, Sondrio', 'Val Chiavenna, Sondrio',\n",
              "       'Montagna, Sondrio', 'Bolzano', 'Caserta, Ruviano', 'Salerno',\n",
              "       'Naples', 'Geneva', 'Middle Franconia',\n",
              "       \"KK Women's and Children's Hospital\", 'Tallinn', 'Uppsala',\n",
              "       'Gothenburg', 'Vastra Gotaland', 'Stockholm', 'Zurich', 'Basel',\n",
              "       'Maramures', 'Timisoara', 'Oslo', 'Baerum', 'Siauliai',\n",
              "       'Ben Gurion Airport', 'Shizuoka City', 'Setana', 'Fukagawa',\n",
              "       'Kamikawa', 'Kushiro', 'Amsterdam',\n",
              "       'Jose Joaquin de Olmedo Airport, Guayaquil'], dtype=object)"
            ]
          },
          "metadata": {
            "tags": []
          },
          "execution_count": 104
        }
      ]
    },
    {
      "cell_type": "code",
      "metadata": {
        "id": "gmIOYKJxtLWR",
        "colab_type": "code",
        "colab": {}
      },
      "source": [
        "from sklearn.preprocessing import LabelEncoder\n",
        "\n",
        "covid_open_list = covid_open_list.fillna('NA')\n",
        "enclist = list()\n",
        "\n",
        "for col in list(covid_open_list.columns):\n",
        "  le = preprocessing.LabelEncoder()\n",
        "  le.fit(covid_open_list[col])\n",
        "  covid_open_list[col] = le.transform(covid_open_list[col])\n",
        "  enclist.append(le)"
      ],
      "execution_count": 0,
      "outputs": []
    },
    {
      "cell_type": "code",
      "metadata": {
        "id": "_cw6IPC-4WV5",
        "colab_type": "code",
        "colab": {
          "base_uri": "https://localhost:8080/",
          "height": 136
        },
        "outputId": "89bb0fa2-fb39-4c11-c4ca-611839ec8707"
      },
      "source": [
        "for col in list(covid_open_list.columns):\n",
        "  print('Absolute value of correlatioin between city and', col, abs(covid_open_list['city'].corr(covid_open_list[col])))"
      ],
      "execution_count": 106,
      "outputs": [
        {
          "output_type": "stream",
          "text": [
            "Absolute value of correlatioin between city and age 0.06010611985495587\n",
            "Absolute value of correlatioin between city and sex 0.08383836348201464\n",
            "Absolute value of correlatioin between city and symptoms 0.047428758803770614\n",
            "Absolute value of correlatioin between city and city 1.0\n",
            "Absolute value of correlatioin between city and province 0.14296158283723115\n",
            "Absolute value of correlatioin between city and lives_in_Wuhan 0.05541514153675362\n",
            "Absolute value of correlatioin between city and travel_history_location 0.01997107127656418\n"
          ],
          "name": "stdout"
        }
      ]
    },
    {
      "cell_type": "code",
      "metadata": {
        "id": "J5Na7h-i4n5d",
        "colab_type": "code",
        "colab": {
          "base_uri": "https://localhost:8080/",
          "height": 266
        },
        "outputId": "cd65e3fb-5412-4f74-8781-7ef94f54467b"
      },
      "source": [
        "covid_open_list.corr()"
      ],
      "execution_count": 107,
      "outputs": [
        {
          "output_type": "execute_result",
          "data": {
            "text/html": [
              "<div>\n",
              "<style scoped>\n",
              "    .dataframe tbody tr th:only-of-type {\n",
              "        vertical-align: middle;\n",
              "    }\n",
              "\n",
              "    .dataframe tbody tr th {\n",
              "        vertical-align: top;\n",
              "    }\n",
              "\n",
              "    .dataframe thead th {\n",
              "        text-align: right;\n",
              "    }\n",
              "</style>\n",
              "<table border=\"1\" class=\"dataframe\">\n",
              "  <thead>\n",
              "    <tr style=\"text-align: right;\">\n",
              "      <th></th>\n",
              "      <th>age</th>\n",
              "      <th>sex</th>\n",
              "      <th>symptoms</th>\n",
              "      <th>city</th>\n",
              "      <th>province</th>\n",
              "      <th>lives_in_Wuhan</th>\n",
              "      <th>travel_history_location</th>\n",
              "    </tr>\n",
              "  </thead>\n",
              "  <tbody>\n",
              "    <tr>\n",
              "      <th>age</th>\n",
              "      <td>1.000000</td>\n",
              "      <td>-0.741257</td>\n",
              "      <td>-0.420462</td>\n",
              "      <td>0.060106</td>\n",
              "      <td>-0.011341</td>\n",
              "      <td>-0.405191</td>\n",
              "      <td>-0.256712</td>\n",
              "    </tr>\n",
              "    <tr>\n",
              "      <th>sex</th>\n",
              "      <td>-0.741257</td>\n",
              "      <td>1.000000</td>\n",
              "      <td>0.483601</td>\n",
              "      <td>-0.083838</td>\n",
              "      <td>0.022234</td>\n",
              "      <td>0.453334</td>\n",
              "      <td>0.264579</td>\n",
              "    </tr>\n",
              "    <tr>\n",
              "      <th>symptoms</th>\n",
              "      <td>-0.420462</td>\n",
              "      <td>0.483601</td>\n",
              "      <td>1.000000</td>\n",
              "      <td>-0.047429</td>\n",
              "      <td>0.011460</td>\n",
              "      <td>0.358518</td>\n",
              "      <td>0.210328</td>\n",
              "    </tr>\n",
              "    <tr>\n",
              "      <th>city</th>\n",
              "      <td>0.060106</td>\n",
              "      <td>-0.083838</td>\n",
              "      <td>-0.047429</td>\n",
              "      <td>1.000000</td>\n",
              "      <td>0.142962</td>\n",
              "      <td>-0.055415</td>\n",
              "      <td>-0.019971</td>\n",
              "    </tr>\n",
              "    <tr>\n",
              "      <th>province</th>\n",
              "      <td>-0.011341</td>\n",
              "      <td>0.022234</td>\n",
              "      <td>0.011460</td>\n",
              "      <td>0.142962</td>\n",
              "      <td>1.000000</td>\n",
              "      <td>0.015961</td>\n",
              "      <td>0.027648</td>\n",
              "    </tr>\n",
              "    <tr>\n",
              "      <th>lives_in_Wuhan</th>\n",
              "      <td>-0.405191</td>\n",
              "      <td>0.453334</td>\n",
              "      <td>0.358518</td>\n",
              "      <td>-0.055415</td>\n",
              "      <td>0.015961</td>\n",
              "      <td>1.000000</td>\n",
              "      <td>0.411611</td>\n",
              "    </tr>\n",
              "    <tr>\n",
              "      <th>travel_history_location</th>\n",
              "      <td>-0.256712</td>\n",
              "      <td>0.264579</td>\n",
              "      <td>0.210328</td>\n",
              "      <td>-0.019971</td>\n",
              "      <td>0.027648</td>\n",
              "      <td>0.411611</td>\n",
              "      <td>1.000000</td>\n",
              "    </tr>\n",
              "  </tbody>\n",
              "</table>\n",
              "</div>"
            ],
            "text/plain": [
              "                              age  ...  travel_history_location\n",
              "age                      1.000000  ...                -0.256712\n",
              "sex                     -0.741257  ...                 0.264579\n",
              "symptoms                -0.420462  ...                 0.210328\n",
              "city                     0.060106  ...                -0.019971\n",
              "province                -0.011341  ...                 0.027648\n",
              "lives_in_Wuhan          -0.405191  ...                 0.411611\n",
              "travel_history_location -0.256712  ...                 1.000000\n",
              "\n",
              "[7 rows x 7 columns]"
            ]
          },
          "metadata": {
            "tags": []
          },
          "execution_count": 107
        }
      ]
    },
    {
      "cell_type": "code",
      "metadata": {
        "id": "Z0atSiBX47as",
        "colab_type": "code",
        "colab": {
          "base_uri": "https://localhost:8080/",
          "height": 419
        },
        "outputId": "b3dac9bf-9da1-42bc-b6a8-2e715c7465a8"
      },
      "source": [
        "#sex and age has most correlated value = 0.74 so:\n",
        "\n",
        "X =covid_open_list.filter(['age','sex'])\n",
        "X"
      ],
      "execution_count": 108,
      "outputs": [
        {
          "output_type": "execute_result",
          "data": {
            "text/html": [
              "<div>\n",
              "<style scoped>\n",
              "    .dataframe tbody tr th:only-of-type {\n",
              "        vertical-align: middle;\n",
              "    }\n",
              "\n",
              "    .dataframe tbody tr th {\n",
              "        vertical-align: top;\n",
              "    }\n",
              "\n",
              "    .dataframe thead th {\n",
              "        text-align: right;\n",
              "    }\n",
              "</style>\n",
              "<table border=\"1\" class=\"dataframe\">\n",
              "  <thead>\n",
              "    <tr style=\"text-align: right;\">\n",
              "      <th></th>\n",
              "      <th>age</th>\n",
              "      <th>sex</th>\n",
              "    </tr>\n",
              "  </thead>\n",
              "  <tbody>\n",
              "    <tr>\n",
              "      <th>0</th>\n",
              "      <td>39</td>\n",
              "      <td>5</td>\n",
              "    </tr>\n",
              "    <tr>\n",
              "      <th>1</th>\n",
              "      <td>62</td>\n",
              "      <td>5</td>\n",
              "    </tr>\n",
              "    <tr>\n",
              "      <th>2</th>\n",
              "      <td>64</td>\n",
              "      <td>5</td>\n",
              "    </tr>\n",
              "    <tr>\n",
              "      <th>3</th>\n",
              "      <td>62</td>\n",
              "      <td>4</td>\n",
              "    </tr>\n",
              "    <tr>\n",
              "      <th>4</th>\n",
              "      <td>66</td>\n",
              "      <td>4</td>\n",
              "    </tr>\n",
              "    <tr>\n",
              "      <th>...</th>\n",
              "      <td>...</td>\n",
              "      <td>...</td>\n",
              "    </tr>\n",
              "    <tr>\n",
              "      <th>14121</th>\n",
              "      <td>116</td>\n",
              "      <td>3</td>\n",
              "    </tr>\n",
              "    <tr>\n",
              "      <th>14122</th>\n",
              "      <td>116</td>\n",
              "      <td>3</td>\n",
              "    </tr>\n",
              "    <tr>\n",
              "      <th>14123</th>\n",
              "      <td>116</td>\n",
              "      <td>3</td>\n",
              "    </tr>\n",
              "    <tr>\n",
              "      <th>14124</th>\n",
              "      <td>116</td>\n",
              "      <td>3</td>\n",
              "    </tr>\n",
              "    <tr>\n",
              "      <th>14125</th>\n",
              "      <td>116</td>\n",
              "      <td>3</td>\n",
              "    </tr>\n",
              "  </tbody>\n",
              "</table>\n",
              "<p>14126 rows × 2 columns</p>\n",
              "</div>"
            ],
            "text/plain": [
              "       age  sex\n",
              "0       39    5\n",
              "1       62    5\n",
              "2       64    5\n",
              "3       62    4\n",
              "4       66    4\n",
              "...    ...  ...\n",
              "14121  116    3\n",
              "14122  116    3\n",
              "14123  116    3\n",
              "14124  116    3\n",
              "14125  116    3\n",
              "\n",
              "[14126 rows x 2 columns]"
            ]
          },
          "metadata": {
            "tags": []
          },
          "execution_count": 108
        }
      ]
    },
    {
      "cell_type": "code",
      "metadata": {
        "id": "opLDq7Qh5cEh",
        "colab_type": "code",
        "colab": {
          "base_uri": "https://localhost:8080/",
          "height": 419
        },
        "outputId": "d167586c-9d98-47df-f3bd-2a18ee324882"
      },
      "source": [
        "from sklearn.preprocessing import MinMaxScaler\n",
        "\n",
        "sc = MinMaxScaler()\n",
        "sc.fit(X)\n",
        "X = pd.DataFrame(sc.transform(X))\n",
        "X.columns = [ 'age', 'sex']\n",
        "X"
      ],
      "execution_count": 109,
      "outputs": [
        {
          "output_type": "execute_result",
          "data": {
            "text/html": [
              "<div>\n",
              "<style scoped>\n",
              "    .dataframe tbody tr th:only-of-type {\n",
              "        vertical-align: middle;\n",
              "    }\n",
              "\n",
              "    .dataframe tbody tr th {\n",
              "        vertical-align: top;\n",
              "    }\n",
              "\n",
              "    .dataframe thead th {\n",
              "        text-align: right;\n",
              "    }\n",
              "</style>\n",
              "<table border=\"1\" class=\"dataframe\">\n",
              "  <thead>\n",
              "    <tr style=\"text-align: right;\">\n",
              "      <th></th>\n",
              "      <th>age</th>\n",
              "      <th>sex</th>\n",
              "    </tr>\n",
              "  </thead>\n",
              "  <tbody>\n",
              "    <tr>\n",
              "      <th>0</th>\n",
              "      <td>0.336207</td>\n",
              "      <td>1.0</td>\n",
              "    </tr>\n",
              "    <tr>\n",
              "      <th>1</th>\n",
              "      <td>0.534483</td>\n",
              "      <td>1.0</td>\n",
              "    </tr>\n",
              "    <tr>\n",
              "      <th>2</th>\n",
              "      <td>0.551724</td>\n",
              "      <td>1.0</td>\n",
              "    </tr>\n",
              "    <tr>\n",
              "      <th>3</th>\n",
              "      <td>0.534483</td>\n",
              "      <td>0.8</td>\n",
              "    </tr>\n",
              "    <tr>\n",
              "      <th>4</th>\n",
              "      <td>0.568966</td>\n",
              "      <td>0.8</td>\n",
              "    </tr>\n",
              "    <tr>\n",
              "      <th>...</th>\n",
              "      <td>...</td>\n",
              "      <td>...</td>\n",
              "    </tr>\n",
              "    <tr>\n",
              "      <th>14121</th>\n",
              "      <td>1.000000</td>\n",
              "      <td>0.6</td>\n",
              "    </tr>\n",
              "    <tr>\n",
              "      <th>14122</th>\n",
              "      <td>1.000000</td>\n",
              "      <td>0.6</td>\n",
              "    </tr>\n",
              "    <tr>\n",
              "      <th>14123</th>\n",
              "      <td>1.000000</td>\n",
              "      <td>0.6</td>\n",
              "    </tr>\n",
              "    <tr>\n",
              "      <th>14124</th>\n",
              "      <td>1.000000</td>\n",
              "      <td>0.6</td>\n",
              "    </tr>\n",
              "    <tr>\n",
              "      <th>14125</th>\n",
              "      <td>1.000000</td>\n",
              "      <td>0.6</td>\n",
              "    </tr>\n",
              "  </tbody>\n",
              "</table>\n",
              "<p>14126 rows × 2 columns</p>\n",
              "</div>"
            ],
            "text/plain": [
              "            age  sex\n",
              "0      0.336207  1.0\n",
              "1      0.534483  1.0\n",
              "2      0.551724  1.0\n",
              "3      0.534483  0.8\n",
              "4      0.568966  0.8\n",
              "...         ...  ...\n",
              "14121  1.000000  0.6\n",
              "14122  1.000000  0.6\n",
              "14123  1.000000  0.6\n",
              "14124  1.000000  0.6\n",
              "14125  1.000000  0.6\n",
              "\n",
              "[14126 rows x 2 columns]"
            ]
          },
          "metadata": {
            "tags": []
          },
          "execution_count": 109
        }
      ]
    },
    {
      "cell_type": "code",
      "metadata": {
        "id": "_K_ReQXV53p7",
        "colab_type": "code",
        "colab": {
          "base_uri": "https://localhost:8080/",
          "height": 204
        },
        "outputId": "adef48a8-068f-4c57-8674-00104aee2251"
      },
      "source": [
        "X.head()"
      ],
      "execution_count": 110,
      "outputs": [
        {
          "output_type": "execute_result",
          "data": {
            "text/html": [
              "<div>\n",
              "<style scoped>\n",
              "    .dataframe tbody tr th:only-of-type {\n",
              "        vertical-align: middle;\n",
              "    }\n",
              "\n",
              "    .dataframe tbody tr th {\n",
              "        vertical-align: top;\n",
              "    }\n",
              "\n",
              "    .dataframe thead th {\n",
              "        text-align: right;\n",
              "    }\n",
              "</style>\n",
              "<table border=\"1\" class=\"dataframe\">\n",
              "  <thead>\n",
              "    <tr style=\"text-align: right;\">\n",
              "      <th></th>\n",
              "      <th>age</th>\n",
              "      <th>sex</th>\n",
              "    </tr>\n",
              "  </thead>\n",
              "  <tbody>\n",
              "    <tr>\n",
              "      <th>0</th>\n",
              "      <td>0.336207</td>\n",
              "      <td>1.0</td>\n",
              "    </tr>\n",
              "    <tr>\n",
              "      <th>1</th>\n",
              "      <td>0.534483</td>\n",
              "      <td>1.0</td>\n",
              "    </tr>\n",
              "    <tr>\n",
              "      <th>2</th>\n",
              "      <td>0.551724</td>\n",
              "      <td>1.0</td>\n",
              "    </tr>\n",
              "    <tr>\n",
              "      <th>3</th>\n",
              "      <td>0.534483</td>\n",
              "      <td>0.8</td>\n",
              "    </tr>\n",
              "    <tr>\n",
              "      <th>4</th>\n",
              "      <td>0.568966</td>\n",
              "      <td>0.8</td>\n",
              "    </tr>\n",
              "  </tbody>\n",
              "</table>\n",
              "</div>"
            ],
            "text/plain": [
              "        age  sex\n",
              "0  0.336207  1.0\n",
              "1  0.534483  1.0\n",
              "2  0.551724  1.0\n",
              "3  0.534483  0.8\n",
              "4  0.568966  0.8"
            ]
          },
          "metadata": {
            "tags": []
          },
          "execution_count": 110
        }
      ]
    },
    {
      "cell_type": "code",
      "metadata": {
        "id": "9kGwxUJG57Mh",
        "colab_type": "code",
        "colab": {
          "base_uri": "https://localhost:8080/",
          "height": 204
        },
        "outputId": "149e8c8e-3f4f-4044-fa92-4b3c80e6d422"
      },
      "source": [
        "X.tail()"
      ],
      "execution_count": 111,
      "outputs": [
        {
          "output_type": "execute_result",
          "data": {
            "text/html": [
              "<div>\n",
              "<style scoped>\n",
              "    .dataframe tbody tr th:only-of-type {\n",
              "        vertical-align: middle;\n",
              "    }\n",
              "\n",
              "    .dataframe tbody tr th {\n",
              "        vertical-align: top;\n",
              "    }\n",
              "\n",
              "    .dataframe thead th {\n",
              "        text-align: right;\n",
              "    }\n",
              "</style>\n",
              "<table border=\"1\" class=\"dataframe\">\n",
              "  <thead>\n",
              "    <tr style=\"text-align: right;\">\n",
              "      <th></th>\n",
              "      <th>age</th>\n",
              "      <th>sex</th>\n",
              "    </tr>\n",
              "  </thead>\n",
              "  <tbody>\n",
              "    <tr>\n",
              "      <th>14121</th>\n",
              "      <td>1.0</td>\n",
              "      <td>0.6</td>\n",
              "    </tr>\n",
              "    <tr>\n",
              "      <th>14122</th>\n",
              "      <td>1.0</td>\n",
              "      <td>0.6</td>\n",
              "    </tr>\n",
              "    <tr>\n",
              "      <th>14123</th>\n",
              "      <td>1.0</td>\n",
              "      <td>0.6</td>\n",
              "    </tr>\n",
              "    <tr>\n",
              "      <th>14124</th>\n",
              "      <td>1.0</td>\n",
              "      <td>0.6</td>\n",
              "    </tr>\n",
              "    <tr>\n",
              "      <th>14125</th>\n",
              "      <td>1.0</td>\n",
              "      <td>0.6</td>\n",
              "    </tr>\n",
              "  </tbody>\n",
              "</table>\n",
              "</div>"
            ],
            "text/plain": [
              "       age  sex\n",
              "14121  1.0  0.6\n",
              "14122  1.0  0.6\n",
              "14123  1.0  0.6\n",
              "14124  1.0  0.6\n",
              "14125  1.0  0.6"
            ]
          },
          "metadata": {
            "tags": []
          },
          "execution_count": 111
        }
      ]
    },
    {
      "cell_type": "code",
      "metadata": {
        "id": "eosgaV9359AC",
        "colab_type": "code",
        "colab": {}
      },
      "source": [
        ""
      ],
      "execution_count": 0,
      "outputs": []
    }
  ]
}